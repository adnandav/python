{
  "nbformat": 4,
  "nbformat_minor": 0,
  "metadata": {
    "colab": {
      "provenance": [],
      "mount_file_id": "1YMrCvzXXU7u3QGQeJGUjxUwHmI_lKSNW",
      "authorship_tag": "ABX9TyO7AIIVxrX8lu2XQdcoWxEV",
      "include_colab_link": true
    },
    "kernelspec": {
      "name": "python3",
      "display_name": "Python 3"
    },
    "language_info": {
      "name": "python"
    }
  },
  "cells": [
    {
      "cell_type": "markdown",
      "metadata": {
        "id": "view-in-github",
        "colab_type": "text"
      },
      "source": [
        "<a href=\"https://colab.research.google.com/github/adnandav/python/blob/main/Hotel_booking.ipynb\" target=\"_parent\"><img src=\"https://colab.research.google.com/assets/colab-badge.svg\" alt=\"Open In Colab\"/></a>"
      ]
    },
    {
      "cell_type": "code",
      "execution_count": null,
      "metadata": {
        "id": "QKCVXHOKUtDi"
      },
      "outputs": [],
      "source": [
        " # <font color=blue>Dataset</font>"
      ]
    },
    {
      "cell_type": "markdown",
      "source": [],
      "metadata": {
        "id": "w7IakemmEKHo"
      }
    },
    {
      "cell_type": "markdown",
      "source": [
        "# **Project Name**    - Hotel Booking \n",
        "\n"
      ],
      "metadata": {
        "id": "vncDsAP0Gaoa"
      }
    },
    {
      "cell_type": "markdown",
      "source": [
        "##### **Project Type**    - EDA/Regression/Classification/Unsupervised\n",
        "##### **Contribution**    - Individual\n",
        "##### **Team Member 1 -**   **Adnan Khan**\n"
      ],
      "metadata": {
        "id": "beRrZCGUAJYm"
      }
    },
    {
      "cell_type": "markdown",
      "source": [
        "# **Project Summary -**\n",
        "The project began by examining the distribution of bookings by month and found high booking rates during the summer months, which is not surprising given that these are popular vacation destinations. Next, the analysis looked at the booking channels used by guests, with the majority of bookings made through online travel agencies, followed by direct bookings through the hotel website.\n",
        "The cancellation rates of bookings were also examined, with around one-third of all bookings being canceled, and the cancellation rate varied by hotel type and booking channel. Finally, the length of stay of guests was examined, and it was found that the majority of bookings were for a one-night stay, but this varied by hotel type.\n",
        "\n",
        "Overall, this analysis of hotel bookings inPortugal, GBR(Great Brittan),France and Spain  provided useful insights into seasonal patterns, booking channels, cancellation rates, and length of stay. These insights can be helpful for hotel managers and travel agencies in making informed decisions to improve their booking and revenue management strategies."
      ],
      "metadata": {
        "id": "FJNUwmbgGyua"
      }
    },
    {
      "cell_type": "markdown",
      "source": [
        "Write the summary here within 500-600 words."
      ],
      "metadata": {
        "id": "F6v_1wHtG2nS"
      }
    },
    {
      "cell_type": "markdown",
      "source": [
        "# **GitHub Link -**   https://github.com/adnandav/python/blob/main/Final_Hotel_booking.ipynb"
      ],
      "metadata": {
        "id": "w6K7xa23Elo4"
      }
    },
    {
      "cell_type": "markdown",
      "source": [
        "Provide your GitHub Link here."
      ],
      "metadata": {
        "id": "h1o69JH3Eqqn"
      }
    },
    {
      "cell_type": "markdown",
      "source": [
        "# **Problem Statement**\n",
        "1. What are the seasonal patterns in hotel bookings, and how can hotels adjust their pricing and marketing strategies accordingly?\n",
        "\n",
        "2. Which booking channels are most effective for different types of hotels, and how can hotels optimize their distribution channels to increase bookings?\n",
        "\n",
        "3. What factors contribute to high cancellation rates in hotel bookings, and how can hotels reduce cancellations and optimize their revenue management strategies?\n",
        "\n",
        "4. How do guest demographics and travel preferences affect their booking behavior, and how can hotels tailor their offerings to meet these preferences?\n",
        "\n",
        "5. What are the most common reasons for booking cancellations, and how can hotels address these issues to improve customer satisfaction and loyalty?\n",
        "\n",
        "6. How do guests' length of stay and booking frequency vary by hotel type, and what opportunities exist to increase revenue through targeted marketing and promotions?\n",
        " \n",
        "\n",
        "\n"
      ],
      "metadata": {
        "id": "yQaldy8SH6Dl"
      }
    },
    {
      "cell_type": "markdown",
      "source": [
        "**Write Problem Statement Here.**"
      ],
      "metadata": {
        "id": "DpeJGUA3kjGy"
      }
    },
    {
      "cell_type": "markdown",
      "source": [
        "#### **Define Your Business Objective?**"
      ],
      "metadata": {
        "id": "PH-0ReGfmX4f"
      }
    },
    {
      "cell_type": "markdown",
      "source": [
        "Answer Here.  \n",
        "1.Increase revenue: By identifying booking patterns, hotel managers can develop pricing and marketing strategies to increase bookings during low season periods, optimize revenue management, and improve the hotel's financial performance.\n",
        "\n",
        "2. Improve guest satisfaction: Understanding the reasons for cancellations and identifying guest preferences can help hotels provide better customer service and improve guest satisfaction, which can lead to positive reviews and repeat business.\n",
        "\n",
        "3. Optimize distribution channels: Analyzing the effectiveness of different booking channels can help hotels improve their distribution strategies, maximize their reach, and increase bookings.\n",
        "\n",
        "4. Enhance operational efficiency: By analyzing booking patterns and cancellations, hotels can optimize their staff allocation and streamline their operations, resulting in improved efficiency and reduced costs.\n",
        "\n",
        "5. Identify target markets: Analyzing guest demographics and travel preferences can help hotels identify target markets, tailor their offerings to meet these preferences, and develop effective marketing strategies to attract and retain these guests.\n",
        "**Overall, the business objective of a hotel booking EDA project is to use data-driven insights to improve the hotel's performance, increase revenue, and enhance guest satisfaction.**"
      ],
      "metadata": {
        "id": "PhDvGCAqmjP1"
      }
    },
    {
      "cell_type": "markdown",
      "source": [
        "# **General Guidelines** : -  \n",
        "1. Understand the data: Before diving into analysis, take time to understand the data sources, variables, and any limitations or biases in the data. Ensure that the data is accurate, complete, and representative of the hotel's booking patterns.\n",
        "\n",
        "2. Define the research questions: Identify the key research questions or hypotheses you want to explore in the analysis. These should be aligned with the hotel's business objectives and reflect the specific challenges and opportunities facing the hotel.\n",
        "\n",
        "3. Clean and preprocess the data: Clean the data by removing any duplicate or irrelevant records, correcting errors or missing values, and transforming the data into a format suitable for analysis. Preprocessing may also involve feature engineering to create new variables that better capture the underlying patterns and trends in the data.\n",
        "\n",
        "4. Conduct exploratory data analysis: Use data visualization techniques and summary statistics to explore the data and identify patterns, trends, and anomalies. This can include examining the distribution of bookings, booking channels, cancellation rates, length of stay, and other relevant variables.\n",
        "\n",
        "5. Perform statistical analysis: Use appropriate statistical techniques to test hypotheses and quantify relationships between variables. This can include regression analysis, correlation analysis, and hypothesis testing to identify significant differences between groups or variables.\n",
        "\n",
        "6. Interpret and communicate results: Finally, interpret the results of the analysis and communicate key insights and recommendations to stakeholders in a clear and concise manner. Use data visualization techniques, such as charts and graphs, to effectively communicate the findings and support the recommendations.\n",
        "\n",
        "By following these general guidelines, you can conduct a robust and insightful hotel booking EDA project that provides actionable insights and drives business outcomes."
      ],
      "metadata": {
        "id": "mDgbUHAGgjLW"
      }
    },
    {
      "cell_type": "markdown",
      "source": [
        "\n",
        "\n",
        "# <font color=blue>**1.Datasets Collecting and Understanding** </font>\n"
      ],
      "metadata": {
        "id": "Kwztrz6LVcxt"
      }
    },
    {
      "cell_type": "markdown",
      "source": [
        "This data set contains booking information for a city hotel and a resort hotel and includes information such as when the booking was made, length of stay, the number of adults, children, and/or babies, and the number of available parking spaces, among other things. All personally identifying information has from the data. We will perform exploratory data analysis with python to get insight from the data."
      ],
      "metadata": {
        "id": "O2I_8ApkVMn2"
      }
    },
    {
      "cell_type": "code",
      "source": [
        "import pandas as pd\n",
        "import seaborn as sns\n",
        "import numpy as np\n",
        "from matplotlib import pyplot as plt\n",
        "%matplotlib inline\n",
        "from sklearn.preprocessing import StandardScaler\n",
        "pd.set_option('display.max_columns', 500)"
      ],
      "metadata": {
        "id": "SzBsHuPuVsAL"
      },
      "execution_count": null,
      "outputs": []
    },
    {
      "cell_type": "markdown",
      "source": [],
      "metadata": {
        "id": "vz6J4pHec3fV"
      }
    },
    {
      "cell_type": "code",
      "source": [
        "path = \"/content/drive/MyDrive/Colab Notebooks/Hotel Bookings.csv\""
      ],
      "metadata": {
        "id": "Fw6Hx2m4YSMw"
      },
      "execution_count": null,
      "outputs": []
    },
    {
      "cell_type": "code",
      "source": [
        "df=pd.read_csv(path)"
      ],
      "metadata": {
        "id": "wx6IRnQwYWRf"
      },
      "execution_count": null,
      "outputs": []
    },
    {
      "cell_type": "code",
      "source": [
        "df.head()"
      ],
      "metadata": {
        "colab": {
          "base_uri": "https://localhost:8080/",
          "height": 357
        },
        "id": "NMB3p7AJYtFo",
        "outputId": "1300306d-4985-4056-8f3d-c56a7a99dca5"
      },
      "execution_count": null,
      "outputs": [
        {
          "output_type": "execute_result",
          "data": {
            "text/plain": [
              "          hotel  is_canceled  lead_time  arrival_date_year arrival_date_month  \\\n",
              "0  Resort Hotel            0        342               2015               July   \n",
              "1  Resort Hotel            0        737               2015               July   \n",
              "2  Resort Hotel            0          7               2015               July   \n",
              "3  Resort Hotel            0         13               2015               July   \n",
              "4  Resort Hotel            0         14               2015               July   \n",
              "\n",
              "   arrival_date_week_number  arrival_date_day_of_month  \\\n",
              "0                        27                          1   \n",
              "1                        27                          1   \n",
              "2                        27                          1   \n",
              "3                        27                          1   \n",
              "4                        27                          1   \n",
              "\n",
              "   stays_in_weekend_nights  stays_in_week_nights  adults  children  babies  \\\n",
              "0                        0                     0       2       0.0       0   \n",
              "1                        0                     0       2       0.0       0   \n",
              "2                        0                     1       1       0.0       0   \n",
              "3                        0                     1       1       0.0       0   \n",
              "4                        0                     2       2       0.0       0   \n",
              "\n",
              "  meal country market_segment distribution_channel  is_repeated_guest  \\\n",
              "0   BB     PRT         Direct               Direct                  0   \n",
              "1   BB     PRT         Direct               Direct                  0   \n",
              "2   BB     GBR         Direct               Direct                  0   \n",
              "3   BB     GBR      Corporate            Corporate                  0   \n",
              "4   BB     GBR      Online TA                TA/TO                  0   \n",
              "\n",
              "   previous_cancellations  previous_bookings_not_canceled reserved_room_type  \\\n",
              "0                       0                               0                  C   \n",
              "1                       0                               0                  C   \n",
              "2                       0                               0                  A   \n",
              "3                       0                               0                  A   \n",
              "4                       0                               0                  A   \n",
              "\n",
              "  assigned_room_type  booking_changes deposit_type  agent  company  \\\n",
              "0                  C                3   No Deposit    NaN      NaN   \n",
              "1                  C                4   No Deposit    NaN      NaN   \n",
              "2                  C                0   No Deposit    NaN      NaN   \n",
              "3                  A                0   No Deposit  304.0      NaN   \n",
              "4                  A                0   No Deposit  240.0      NaN   \n",
              "\n",
              "   days_in_waiting_list customer_type   adr  required_car_parking_spaces  \\\n",
              "0                     0     Transient   0.0                            0   \n",
              "1                     0     Transient   0.0                            0   \n",
              "2                     0     Transient  75.0                            0   \n",
              "3                     0     Transient  75.0                            0   \n",
              "4                     0     Transient  98.0                            0   \n",
              "\n",
              "   total_of_special_requests reservation_status reservation_status_date  \n",
              "0                          0          Check-Out              2015-07-01  \n",
              "1                          0          Check-Out              2015-07-01  \n",
              "2                          0          Check-Out              2015-07-02  \n",
              "3                          0          Check-Out              2015-07-02  \n",
              "4                          1          Check-Out              2015-07-03  "
            ],
            "text/html": [
              "\n",
              "  <div id=\"df-fc204bfc-c007-47d3-a3d2-6458fb50bb61\">\n",
              "    <div class=\"colab-df-container\">\n",
              "      <div>\n",
              "<style scoped>\n",
              "    .dataframe tbody tr th:only-of-type {\n",
              "        vertical-align: middle;\n",
              "    }\n",
              "\n",
              "    .dataframe tbody tr th {\n",
              "        vertical-align: top;\n",
              "    }\n",
              "\n",
              "    .dataframe thead th {\n",
              "        text-align: right;\n",
              "    }\n",
              "</style>\n",
              "<table border=\"1\" class=\"dataframe\">\n",
              "  <thead>\n",
              "    <tr style=\"text-align: right;\">\n",
              "      <th></th>\n",
              "      <th>hotel</th>\n",
              "      <th>is_canceled</th>\n",
              "      <th>lead_time</th>\n",
              "      <th>arrival_date_year</th>\n",
              "      <th>arrival_date_month</th>\n",
              "      <th>arrival_date_week_number</th>\n",
              "      <th>arrival_date_day_of_month</th>\n",
              "      <th>stays_in_weekend_nights</th>\n",
              "      <th>stays_in_week_nights</th>\n",
              "      <th>adults</th>\n",
              "      <th>children</th>\n",
              "      <th>babies</th>\n",
              "      <th>meal</th>\n",
              "      <th>country</th>\n",
              "      <th>market_segment</th>\n",
              "      <th>distribution_channel</th>\n",
              "      <th>is_repeated_guest</th>\n",
              "      <th>previous_cancellations</th>\n",
              "      <th>previous_bookings_not_canceled</th>\n",
              "      <th>reserved_room_type</th>\n",
              "      <th>assigned_room_type</th>\n",
              "      <th>booking_changes</th>\n",
              "      <th>deposit_type</th>\n",
              "      <th>agent</th>\n",
              "      <th>company</th>\n",
              "      <th>days_in_waiting_list</th>\n",
              "      <th>customer_type</th>\n",
              "      <th>adr</th>\n",
              "      <th>required_car_parking_spaces</th>\n",
              "      <th>total_of_special_requests</th>\n",
              "      <th>reservation_status</th>\n",
              "      <th>reservation_status_date</th>\n",
              "    </tr>\n",
              "  </thead>\n",
              "  <tbody>\n",
              "    <tr>\n",
              "      <th>0</th>\n",
              "      <td>Resort Hotel</td>\n",
              "      <td>0</td>\n",
              "      <td>342</td>\n",
              "      <td>2015</td>\n",
              "      <td>July</td>\n",
              "      <td>27</td>\n",
              "      <td>1</td>\n",
              "      <td>0</td>\n",
              "      <td>0</td>\n",
              "      <td>2</td>\n",
              "      <td>0.0</td>\n",
              "      <td>0</td>\n",
              "      <td>BB</td>\n",
              "      <td>PRT</td>\n",
              "      <td>Direct</td>\n",
              "      <td>Direct</td>\n",
              "      <td>0</td>\n",
              "      <td>0</td>\n",
              "      <td>0</td>\n",
              "      <td>C</td>\n",
              "      <td>C</td>\n",
              "      <td>3</td>\n",
              "      <td>No Deposit</td>\n",
              "      <td>NaN</td>\n",
              "      <td>NaN</td>\n",
              "      <td>0</td>\n",
              "      <td>Transient</td>\n",
              "      <td>0.0</td>\n",
              "      <td>0</td>\n",
              "      <td>0</td>\n",
              "      <td>Check-Out</td>\n",
              "      <td>2015-07-01</td>\n",
              "    </tr>\n",
              "    <tr>\n",
              "      <th>1</th>\n",
              "      <td>Resort Hotel</td>\n",
              "      <td>0</td>\n",
              "      <td>737</td>\n",
              "      <td>2015</td>\n",
              "      <td>July</td>\n",
              "      <td>27</td>\n",
              "      <td>1</td>\n",
              "      <td>0</td>\n",
              "      <td>0</td>\n",
              "      <td>2</td>\n",
              "      <td>0.0</td>\n",
              "      <td>0</td>\n",
              "      <td>BB</td>\n",
              "      <td>PRT</td>\n",
              "      <td>Direct</td>\n",
              "      <td>Direct</td>\n",
              "      <td>0</td>\n",
              "      <td>0</td>\n",
              "      <td>0</td>\n",
              "      <td>C</td>\n",
              "      <td>C</td>\n",
              "      <td>4</td>\n",
              "      <td>No Deposit</td>\n",
              "      <td>NaN</td>\n",
              "      <td>NaN</td>\n",
              "      <td>0</td>\n",
              "      <td>Transient</td>\n",
              "      <td>0.0</td>\n",
              "      <td>0</td>\n",
              "      <td>0</td>\n",
              "      <td>Check-Out</td>\n",
              "      <td>2015-07-01</td>\n",
              "    </tr>\n",
              "    <tr>\n",
              "      <th>2</th>\n",
              "      <td>Resort Hotel</td>\n",
              "      <td>0</td>\n",
              "      <td>7</td>\n",
              "      <td>2015</td>\n",
              "      <td>July</td>\n",
              "      <td>27</td>\n",
              "      <td>1</td>\n",
              "      <td>0</td>\n",
              "      <td>1</td>\n",
              "      <td>1</td>\n",
              "      <td>0.0</td>\n",
              "      <td>0</td>\n",
              "      <td>BB</td>\n",
              "      <td>GBR</td>\n",
              "      <td>Direct</td>\n",
              "      <td>Direct</td>\n",
              "      <td>0</td>\n",
              "      <td>0</td>\n",
              "      <td>0</td>\n",
              "      <td>A</td>\n",
              "      <td>C</td>\n",
              "      <td>0</td>\n",
              "      <td>No Deposit</td>\n",
              "      <td>NaN</td>\n",
              "      <td>NaN</td>\n",
              "      <td>0</td>\n",
              "      <td>Transient</td>\n",
              "      <td>75.0</td>\n",
              "      <td>0</td>\n",
              "      <td>0</td>\n",
              "      <td>Check-Out</td>\n",
              "      <td>2015-07-02</td>\n",
              "    </tr>\n",
              "    <tr>\n",
              "      <th>3</th>\n",
              "      <td>Resort Hotel</td>\n",
              "      <td>0</td>\n",
              "      <td>13</td>\n",
              "      <td>2015</td>\n",
              "      <td>July</td>\n",
              "      <td>27</td>\n",
              "      <td>1</td>\n",
              "      <td>0</td>\n",
              "      <td>1</td>\n",
              "      <td>1</td>\n",
              "      <td>0.0</td>\n",
              "      <td>0</td>\n",
              "      <td>BB</td>\n",
              "      <td>GBR</td>\n",
              "      <td>Corporate</td>\n",
              "      <td>Corporate</td>\n",
              "      <td>0</td>\n",
              "      <td>0</td>\n",
              "      <td>0</td>\n",
              "      <td>A</td>\n",
              "      <td>A</td>\n",
              "      <td>0</td>\n",
              "      <td>No Deposit</td>\n",
              "      <td>304.0</td>\n",
              "      <td>NaN</td>\n",
              "      <td>0</td>\n",
              "      <td>Transient</td>\n",
              "      <td>75.0</td>\n",
              "      <td>0</td>\n",
              "      <td>0</td>\n",
              "      <td>Check-Out</td>\n",
              "      <td>2015-07-02</td>\n",
              "    </tr>\n",
              "    <tr>\n",
              "      <th>4</th>\n",
              "      <td>Resort Hotel</td>\n",
              "      <td>0</td>\n",
              "      <td>14</td>\n",
              "      <td>2015</td>\n",
              "      <td>July</td>\n",
              "      <td>27</td>\n",
              "      <td>1</td>\n",
              "      <td>0</td>\n",
              "      <td>2</td>\n",
              "      <td>2</td>\n",
              "      <td>0.0</td>\n",
              "      <td>0</td>\n",
              "      <td>BB</td>\n",
              "      <td>GBR</td>\n",
              "      <td>Online TA</td>\n",
              "      <td>TA/TO</td>\n",
              "      <td>0</td>\n",
              "      <td>0</td>\n",
              "      <td>0</td>\n",
              "      <td>A</td>\n",
              "      <td>A</td>\n",
              "      <td>0</td>\n",
              "      <td>No Deposit</td>\n",
              "      <td>240.0</td>\n",
              "      <td>NaN</td>\n",
              "      <td>0</td>\n",
              "      <td>Transient</td>\n",
              "      <td>98.0</td>\n",
              "      <td>0</td>\n",
              "      <td>1</td>\n",
              "      <td>Check-Out</td>\n",
              "      <td>2015-07-03</td>\n",
              "    </tr>\n",
              "  </tbody>\n",
              "</table>\n",
              "</div>\n",
              "      <button class=\"colab-df-convert\" onclick=\"convertToInteractive('df-fc204bfc-c007-47d3-a3d2-6458fb50bb61')\"\n",
              "              title=\"Convert this dataframe to an interactive table.\"\n",
              "              style=\"display:none;\">\n",
              "        \n",
              "  <svg xmlns=\"http://www.w3.org/2000/svg\" height=\"24px\"viewBox=\"0 0 24 24\"\n",
              "       width=\"24px\">\n",
              "    <path d=\"M0 0h24v24H0V0z\" fill=\"none\"/>\n",
              "    <path d=\"M18.56 5.44l.94 2.06.94-2.06 2.06-.94-2.06-.94-.94-2.06-.94 2.06-2.06.94zm-11 1L8.5 8.5l.94-2.06 2.06-.94-2.06-.94L8.5 2.5l-.94 2.06-2.06.94zm10 10l.94 2.06.94-2.06 2.06-.94-2.06-.94-.94-2.06-.94 2.06-2.06.94z\"/><path d=\"M17.41 7.96l-1.37-1.37c-.4-.4-.92-.59-1.43-.59-.52 0-1.04.2-1.43.59L10.3 9.45l-7.72 7.72c-.78.78-.78 2.05 0 2.83L4 21.41c.39.39.9.59 1.41.59.51 0 1.02-.2 1.41-.59l7.78-7.78 2.81-2.81c.8-.78.8-2.07 0-2.86zM5.41 20L4 18.59l7.72-7.72 1.47 1.35L5.41 20z\"/>\n",
              "  </svg>\n",
              "      </button>\n",
              "      \n",
              "  <style>\n",
              "    .colab-df-container {\n",
              "      display:flex;\n",
              "      flex-wrap:wrap;\n",
              "      gap: 12px;\n",
              "    }\n",
              "\n",
              "    .colab-df-convert {\n",
              "      background-color: #E8F0FE;\n",
              "      border: none;\n",
              "      border-radius: 50%;\n",
              "      cursor: pointer;\n",
              "      display: none;\n",
              "      fill: #1967D2;\n",
              "      height: 32px;\n",
              "      padding: 0 0 0 0;\n",
              "      width: 32px;\n",
              "    }\n",
              "\n",
              "    .colab-df-convert:hover {\n",
              "      background-color: #E2EBFA;\n",
              "      box-shadow: 0px 1px 2px rgba(60, 64, 67, 0.3), 0px 1px 3px 1px rgba(60, 64, 67, 0.15);\n",
              "      fill: #174EA6;\n",
              "    }\n",
              "\n",
              "    [theme=dark] .colab-df-convert {\n",
              "      background-color: #3B4455;\n",
              "      fill: #D2E3FC;\n",
              "    }\n",
              "\n",
              "    [theme=dark] .colab-df-convert:hover {\n",
              "      background-color: #434B5C;\n",
              "      box-shadow: 0px 1px 3px 1px rgba(0, 0, 0, 0.15);\n",
              "      filter: drop-shadow(0px 1px 2px rgba(0, 0, 0, 0.3));\n",
              "      fill: #FFFFFF;\n",
              "    }\n",
              "  </style>\n",
              "\n",
              "      <script>\n",
              "        const buttonEl =\n",
              "          document.querySelector('#df-fc204bfc-c007-47d3-a3d2-6458fb50bb61 button.colab-df-convert');\n",
              "        buttonEl.style.display =\n",
              "          google.colab.kernel.accessAllowed ? 'block' : 'none';\n",
              "\n",
              "        async function convertToInteractive(key) {\n",
              "          const element = document.querySelector('#df-fc204bfc-c007-47d3-a3d2-6458fb50bb61');\n",
              "          const dataTable =\n",
              "            await google.colab.kernel.invokeFunction('convertToInteractive',\n",
              "                                                     [key], {});\n",
              "          if (!dataTable) return;\n",
              "\n",
              "          const docLinkHtml = 'Like what you see? Visit the ' +\n",
              "            '<a target=\"_blank\" href=https://colab.research.google.com/notebooks/data_table.ipynb>data table notebook</a>'\n",
              "            + ' to learn more about interactive tables.';\n",
              "          element.innerHTML = '';\n",
              "          dataTable['output_type'] = 'display_data';\n",
              "          await google.colab.output.renderOutput(dataTable, element);\n",
              "          const docLink = document.createElement('div');\n",
              "          docLink.innerHTML = docLinkHtml;\n",
              "          element.appendChild(docLink);\n",
              "        }\n",
              "      </script>\n",
              "    </div>\n",
              "  </div>\n",
              "  "
            ]
          },
          "metadata": {},
          "execution_count": 246
        }
      ]
    },
    {
      "cell_type": "code",
      "source": [
        "print(df.shape)"
      ],
      "metadata": {
        "colab": {
          "base_uri": "https://localhost:8080/"
        },
        "id": "BcUDWj88Y0jI",
        "outputId": "37988259-ee6d-4257-db1e-ebe1f05d97fa"
      },
      "execution_count": null,
      "outputs": [
        {
          "output_type": "stream",
          "name": "stdout",
          "text": [
            "(119390, 32)\n"
          ]
        }
      ]
    },
    {
      "cell_type": "markdown",
      "source": [
        "** Let's look at the statistical aspects of the dataframes**"
      ],
      "metadata": {
        "id": "kDXzm-zVY-Uo"
      }
    },
    {
      "cell_type": "code",
      "source": [
        "df.describe()"
      ],
      "metadata": {
        "colab": {
          "base_uri": "https://localhost:8080/",
          "height": 364
        },
        "id": "j2J26PYyZBW_",
        "outputId": "fc08947c-1920-4d78-9885-f401dbc1df0b"
      },
      "execution_count": null,
      "outputs": [
        {
          "output_type": "execute_result",
          "data": {
            "text/plain": [
              "         is_canceled      lead_time  arrival_date_year  \\\n",
              "count  119390.000000  119390.000000      119390.000000   \n",
              "mean        0.370416     104.011416        2016.156554   \n",
              "std         0.482918     106.863097           0.707476   \n",
              "min         0.000000       0.000000        2015.000000   \n",
              "25%         0.000000      18.000000        2016.000000   \n",
              "50%         0.000000      69.000000        2016.000000   \n",
              "75%         1.000000     160.000000        2017.000000   \n",
              "max         1.000000     737.000000        2017.000000   \n",
              "\n",
              "       arrival_date_week_number  arrival_date_day_of_month  \\\n",
              "count             119390.000000              119390.000000   \n",
              "mean                  27.165173                  15.798241   \n",
              "std                   13.605138                   8.780829   \n",
              "min                    1.000000                   1.000000   \n",
              "25%                   16.000000                   8.000000   \n",
              "50%                   28.000000                  16.000000   \n",
              "75%                   38.000000                  23.000000   \n",
              "max                   53.000000                  31.000000   \n",
              "\n",
              "       stays_in_weekend_nights  stays_in_week_nights         adults  \\\n",
              "count            119390.000000         119390.000000  119390.000000   \n",
              "mean                  0.927599              2.500302       1.856403   \n",
              "std                   0.998613              1.908286       0.579261   \n",
              "min                   0.000000              0.000000       0.000000   \n",
              "25%                   0.000000              1.000000       2.000000   \n",
              "50%                   1.000000              2.000000       2.000000   \n",
              "75%                   2.000000              3.000000       2.000000   \n",
              "max                  19.000000             50.000000      55.000000   \n",
              "\n",
              "            children         babies  is_repeated_guest  \\\n",
              "count  119386.000000  119390.000000      119390.000000   \n",
              "mean        0.103890       0.007949           0.031912   \n",
              "std         0.398561       0.097436           0.175767   \n",
              "min         0.000000       0.000000           0.000000   \n",
              "25%         0.000000       0.000000           0.000000   \n",
              "50%         0.000000       0.000000           0.000000   \n",
              "75%         0.000000       0.000000           0.000000   \n",
              "max        10.000000      10.000000           1.000000   \n",
              "\n",
              "       previous_cancellations  previous_bookings_not_canceled  \\\n",
              "count           119390.000000                   119390.000000   \n",
              "mean                 0.087118                        0.137097   \n",
              "std                  0.844336                        1.497437   \n",
              "min                  0.000000                        0.000000   \n",
              "25%                  0.000000                        0.000000   \n",
              "50%                  0.000000                        0.000000   \n",
              "75%                  0.000000                        0.000000   \n",
              "max                 26.000000                       72.000000   \n",
              "\n",
              "       booking_changes          agent      company  days_in_waiting_list  \\\n",
              "count    119390.000000  103050.000000  6797.000000         119390.000000   \n",
              "mean          0.221124      86.693382   189.266735              2.321149   \n",
              "std           0.652306     110.774548   131.655015             17.594721   \n",
              "min           0.000000       1.000000     6.000000              0.000000   \n",
              "25%           0.000000       9.000000    62.000000              0.000000   \n",
              "50%           0.000000      14.000000   179.000000              0.000000   \n",
              "75%           0.000000     229.000000   270.000000              0.000000   \n",
              "max          21.000000     535.000000   543.000000            391.000000   \n",
              "\n",
              "                 adr  required_car_parking_spaces  total_of_special_requests  \n",
              "count  119390.000000                119390.000000              119390.000000  \n",
              "mean      101.831122                     0.062518                   0.571363  \n",
              "std        50.535790                     0.245291                   0.792798  \n",
              "min        -6.380000                     0.000000                   0.000000  \n",
              "25%        69.290000                     0.000000                   0.000000  \n",
              "50%        94.575000                     0.000000                   0.000000  \n",
              "75%       126.000000                     0.000000                   1.000000  \n",
              "max      5400.000000                     8.000000                   5.000000  "
            ],
            "text/html": [
              "\n",
              "  <div id=\"df-3401b443-5c26-4a82-9a04-afe1d694e332\">\n",
              "    <div class=\"colab-df-container\">\n",
              "      <div>\n",
              "<style scoped>\n",
              "    .dataframe tbody tr th:only-of-type {\n",
              "        vertical-align: middle;\n",
              "    }\n",
              "\n",
              "    .dataframe tbody tr th {\n",
              "        vertical-align: top;\n",
              "    }\n",
              "\n",
              "    .dataframe thead th {\n",
              "        text-align: right;\n",
              "    }\n",
              "</style>\n",
              "<table border=\"1\" class=\"dataframe\">\n",
              "  <thead>\n",
              "    <tr style=\"text-align: right;\">\n",
              "      <th></th>\n",
              "      <th>is_canceled</th>\n",
              "      <th>lead_time</th>\n",
              "      <th>arrival_date_year</th>\n",
              "      <th>arrival_date_week_number</th>\n",
              "      <th>arrival_date_day_of_month</th>\n",
              "      <th>stays_in_weekend_nights</th>\n",
              "      <th>stays_in_week_nights</th>\n",
              "      <th>adults</th>\n",
              "      <th>children</th>\n",
              "      <th>babies</th>\n",
              "      <th>is_repeated_guest</th>\n",
              "      <th>previous_cancellations</th>\n",
              "      <th>previous_bookings_not_canceled</th>\n",
              "      <th>booking_changes</th>\n",
              "      <th>agent</th>\n",
              "      <th>company</th>\n",
              "      <th>days_in_waiting_list</th>\n",
              "      <th>adr</th>\n",
              "      <th>required_car_parking_spaces</th>\n",
              "      <th>total_of_special_requests</th>\n",
              "    </tr>\n",
              "  </thead>\n",
              "  <tbody>\n",
              "    <tr>\n",
              "      <th>count</th>\n",
              "      <td>119390.000000</td>\n",
              "      <td>119390.000000</td>\n",
              "      <td>119390.000000</td>\n",
              "      <td>119390.000000</td>\n",
              "      <td>119390.000000</td>\n",
              "      <td>119390.000000</td>\n",
              "      <td>119390.000000</td>\n",
              "      <td>119390.000000</td>\n",
              "      <td>119386.000000</td>\n",
              "      <td>119390.000000</td>\n",
              "      <td>119390.000000</td>\n",
              "      <td>119390.000000</td>\n",
              "      <td>119390.000000</td>\n",
              "      <td>119390.000000</td>\n",
              "      <td>103050.000000</td>\n",
              "      <td>6797.000000</td>\n",
              "      <td>119390.000000</td>\n",
              "      <td>119390.000000</td>\n",
              "      <td>119390.000000</td>\n",
              "      <td>119390.000000</td>\n",
              "    </tr>\n",
              "    <tr>\n",
              "      <th>mean</th>\n",
              "      <td>0.370416</td>\n",
              "      <td>104.011416</td>\n",
              "      <td>2016.156554</td>\n",
              "      <td>27.165173</td>\n",
              "      <td>15.798241</td>\n",
              "      <td>0.927599</td>\n",
              "      <td>2.500302</td>\n",
              "      <td>1.856403</td>\n",
              "      <td>0.103890</td>\n",
              "      <td>0.007949</td>\n",
              "      <td>0.031912</td>\n",
              "      <td>0.087118</td>\n",
              "      <td>0.137097</td>\n",
              "      <td>0.221124</td>\n",
              "      <td>86.693382</td>\n",
              "      <td>189.266735</td>\n",
              "      <td>2.321149</td>\n",
              "      <td>101.831122</td>\n",
              "      <td>0.062518</td>\n",
              "      <td>0.571363</td>\n",
              "    </tr>\n",
              "    <tr>\n",
              "      <th>std</th>\n",
              "      <td>0.482918</td>\n",
              "      <td>106.863097</td>\n",
              "      <td>0.707476</td>\n",
              "      <td>13.605138</td>\n",
              "      <td>8.780829</td>\n",
              "      <td>0.998613</td>\n",
              "      <td>1.908286</td>\n",
              "      <td>0.579261</td>\n",
              "      <td>0.398561</td>\n",
              "      <td>0.097436</td>\n",
              "      <td>0.175767</td>\n",
              "      <td>0.844336</td>\n",
              "      <td>1.497437</td>\n",
              "      <td>0.652306</td>\n",
              "      <td>110.774548</td>\n",
              "      <td>131.655015</td>\n",
              "      <td>17.594721</td>\n",
              "      <td>50.535790</td>\n",
              "      <td>0.245291</td>\n",
              "      <td>0.792798</td>\n",
              "    </tr>\n",
              "    <tr>\n",
              "      <th>min</th>\n",
              "      <td>0.000000</td>\n",
              "      <td>0.000000</td>\n",
              "      <td>2015.000000</td>\n",
              "      <td>1.000000</td>\n",
              "      <td>1.000000</td>\n",
              "      <td>0.000000</td>\n",
              "      <td>0.000000</td>\n",
              "      <td>0.000000</td>\n",
              "      <td>0.000000</td>\n",
              "      <td>0.000000</td>\n",
              "      <td>0.000000</td>\n",
              "      <td>0.000000</td>\n",
              "      <td>0.000000</td>\n",
              "      <td>0.000000</td>\n",
              "      <td>1.000000</td>\n",
              "      <td>6.000000</td>\n",
              "      <td>0.000000</td>\n",
              "      <td>-6.380000</td>\n",
              "      <td>0.000000</td>\n",
              "      <td>0.000000</td>\n",
              "    </tr>\n",
              "    <tr>\n",
              "      <th>25%</th>\n",
              "      <td>0.000000</td>\n",
              "      <td>18.000000</td>\n",
              "      <td>2016.000000</td>\n",
              "      <td>16.000000</td>\n",
              "      <td>8.000000</td>\n",
              "      <td>0.000000</td>\n",
              "      <td>1.000000</td>\n",
              "      <td>2.000000</td>\n",
              "      <td>0.000000</td>\n",
              "      <td>0.000000</td>\n",
              "      <td>0.000000</td>\n",
              "      <td>0.000000</td>\n",
              "      <td>0.000000</td>\n",
              "      <td>0.000000</td>\n",
              "      <td>9.000000</td>\n",
              "      <td>62.000000</td>\n",
              "      <td>0.000000</td>\n",
              "      <td>69.290000</td>\n",
              "      <td>0.000000</td>\n",
              "      <td>0.000000</td>\n",
              "    </tr>\n",
              "    <tr>\n",
              "      <th>50%</th>\n",
              "      <td>0.000000</td>\n",
              "      <td>69.000000</td>\n",
              "      <td>2016.000000</td>\n",
              "      <td>28.000000</td>\n",
              "      <td>16.000000</td>\n",
              "      <td>1.000000</td>\n",
              "      <td>2.000000</td>\n",
              "      <td>2.000000</td>\n",
              "      <td>0.000000</td>\n",
              "      <td>0.000000</td>\n",
              "      <td>0.000000</td>\n",
              "      <td>0.000000</td>\n",
              "      <td>0.000000</td>\n",
              "      <td>0.000000</td>\n",
              "      <td>14.000000</td>\n",
              "      <td>179.000000</td>\n",
              "      <td>0.000000</td>\n",
              "      <td>94.575000</td>\n",
              "      <td>0.000000</td>\n",
              "      <td>0.000000</td>\n",
              "    </tr>\n",
              "    <tr>\n",
              "      <th>75%</th>\n",
              "      <td>1.000000</td>\n",
              "      <td>160.000000</td>\n",
              "      <td>2017.000000</td>\n",
              "      <td>38.000000</td>\n",
              "      <td>23.000000</td>\n",
              "      <td>2.000000</td>\n",
              "      <td>3.000000</td>\n",
              "      <td>2.000000</td>\n",
              "      <td>0.000000</td>\n",
              "      <td>0.000000</td>\n",
              "      <td>0.000000</td>\n",
              "      <td>0.000000</td>\n",
              "      <td>0.000000</td>\n",
              "      <td>0.000000</td>\n",
              "      <td>229.000000</td>\n",
              "      <td>270.000000</td>\n",
              "      <td>0.000000</td>\n",
              "      <td>126.000000</td>\n",
              "      <td>0.000000</td>\n",
              "      <td>1.000000</td>\n",
              "    </tr>\n",
              "    <tr>\n",
              "      <th>max</th>\n",
              "      <td>1.000000</td>\n",
              "      <td>737.000000</td>\n",
              "      <td>2017.000000</td>\n",
              "      <td>53.000000</td>\n",
              "      <td>31.000000</td>\n",
              "      <td>19.000000</td>\n",
              "      <td>50.000000</td>\n",
              "      <td>55.000000</td>\n",
              "      <td>10.000000</td>\n",
              "      <td>10.000000</td>\n",
              "      <td>1.000000</td>\n",
              "      <td>26.000000</td>\n",
              "      <td>72.000000</td>\n",
              "      <td>21.000000</td>\n",
              "      <td>535.000000</td>\n",
              "      <td>543.000000</td>\n",
              "      <td>391.000000</td>\n",
              "      <td>5400.000000</td>\n",
              "      <td>8.000000</td>\n",
              "      <td>5.000000</td>\n",
              "    </tr>\n",
              "  </tbody>\n",
              "</table>\n",
              "</div>\n",
              "      <button class=\"colab-df-convert\" onclick=\"convertToInteractive('df-3401b443-5c26-4a82-9a04-afe1d694e332')\"\n",
              "              title=\"Convert this dataframe to an interactive table.\"\n",
              "              style=\"display:none;\">\n",
              "        \n",
              "  <svg xmlns=\"http://www.w3.org/2000/svg\" height=\"24px\"viewBox=\"0 0 24 24\"\n",
              "       width=\"24px\">\n",
              "    <path d=\"M0 0h24v24H0V0z\" fill=\"none\"/>\n",
              "    <path d=\"M18.56 5.44l.94 2.06.94-2.06 2.06-.94-2.06-.94-.94-2.06-.94 2.06-2.06.94zm-11 1L8.5 8.5l.94-2.06 2.06-.94-2.06-.94L8.5 2.5l-.94 2.06-2.06.94zm10 10l.94 2.06.94-2.06 2.06-.94-2.06-.94-.94-2.06-.94 2.06-2.06.94z\"/><path d=\"M17.41 7.96l-1.37-1.37c-.4-.4-.92-.59-1.43-.59-.52 0-1.04.2-1.43.59L10.3 9.45l-7.72 7.72c-.78.78-.78 2.05 0 2.83L4 21.41c.39.39.9.59 1.41.59.51 0 1.02-.2 1.41-.59l7.78-7.78 2.81-2.81c.8-.78.8-2.07 0-2.86zM5.41 20L4 18.59l7.72-7.72 1.47 1.35L5.41 20z\"/>\n",
              "  </svg>\n",
              "      </button>\n",
              "      \n",
              "  <style>\n",
              "    .colab-df-container {\n",
              "      display:flex;\n",
              "      flex-wrap:wrap;\n",
              "      gap: 12px;\n",
              "    }\n",
              "\n",
              "    .colab-df-convert {\n",
              "      background-color: #E8F0FE;\n",
              "      border: none;\n",
              "      border-radius: 50%;\n",
              "      cursor: pointer;\n",
              "      display: none;\n",
              "      fill: #1967D2;\n",
              "      height: 32px;\n",
              "      padding: 0 0 0 0;\n",
              "      width: 32px;\n",
              "    }\n",
              "\n",
              "    .colab-df-convert:hover {\n",
              "      background-color: #E2EBFA;\n",
              "      box-shadow: 0px 1px 2px rgba(60, 64, 67, 0.3), 0px 1px 3px 1px rgba(60, 64, 67, 0.15);\n",
              "      fill: #174EA6;\n",
              "    }\n",
              "\n",
              "    [theme=dark] .colab-df-convert {\n",
              "      background-color: #3B4455;\n",
              "      fill: #D2E3FC;\n",
              "    }\n",
              "\n",
              "    [theme=dark] .colab-df-convert:hover {\n",
              "      background-color: #434B5C;\n",
              "      box-shadow: 0px 1px 3px 1px rgba(0, 0, 0, 0.15);\n",
              "      filter: drop-shadow(0px 1px 2px rgba(0, 0, 0, 0.3));\n",
              "      fill: #FFFFFF;\n",
              "    }\n",
              "  </style>\n",
              "\n",
              "      <script>\n",
              "        const buttonEl =\n",
              "          document.querySelector('#df-3401b443-5c26-4a82-9a04-afe1d694e332 button.colab-df-convert');\n",
              "        buttonEl.style.display =\n",
              "          google.colab.kernel.accessAllowed ? 'block' : 'none';\n",
              "\n",
              "        async function convertToInteractive(key) {\n",
              "          const element = document.querySelector('#df-3401b443-5c26-4a82-9a04-afe1d694e332');\n",
              "          const dataTable =\n",
              "            await google.colab.kernel.invokeFunction('convertToInteractive',\n",
              "                                                     [key], {});\n",
              "          if (!dataTable) return;\n",
              "\n",
              "          const docLinkHtml = 'Like what you see? Visit the ' +\n",
              "            '<a target=\"_blank\" href=https://colab.research.google.com/notebooks/data_table.ipynb>data table notebook</a>'\n",
              "            + ' to learn more about interactive tables.';\n",
              "          element.innerHTML = '';\n",
              "          dataTable['output_type'] = 'display_data';\n",
              "          await google.colab.output.renderOutput(dataTable, element);\n",
              "          const docLink = document.createElement('div');\n",
              "          docLink.innerHTML = docLinkHtml;\n",
              "          element.appendChild(docLink);\n",
              "        }\n",
              "      </script>\n",
              "    </div>\n",
              "  </div>\n",
              "  "
            ]
          },
          "metadata": {},
          "execution_count": 248
        }
      ]
    },
    {
      "cell_type": "code",
      "source": [
        "#checking datatypes\n",
        "df.info()"
      ],
      "metadata": {
        "colab": {
          "base_uri": "https://localhost:8080/"
        },
        "id": "dtxwwXnDZNgP",
        "outputId": "f94dd68b-6560-4630-ee1f-5da778607f0e"
      },
      "execution_count": null,
      "outputs": [
        {
          "output_type": "stream",
          "name": "stdout",
          "text": [
            "<class 'pandas.core.frame.DataFrame'>\n",
            "RangeIndex: 119390 entries, 0 to 119389\n",
            "Data columns (total 32 columns):\n",
            " #   Column                          Non-Null Count   Dtype  \n",
            "---  ------                          --------------   -----  \n",
            " 0   hotel                           119390 non-null  object \n",
            " 1   is_canceled                     119390 non-null  int64  \n",
            " 2   lead_time                       119390 non-null  int64  \n",
            " 3   arrival_date_year               119390 non-null  int64  \n",
            " 4   arrival_date_month              119390 non-null  object \n",
            " 5   arrival_date_week_number        119390 non-null  int64  \n",
            " 6   arrival_date_day_of_month       119390 non-null  int64  \n",
            " 7   stays_in_weekend_nights         119390 non-null  int64  \n",
            " 8   stays_in_week_nights            119390 non-null  int64  \n",
            " 9   adults                          119390 non-null  int64  \n",
            " 10  children                        119386 non-null  float64\n",
            " 11  babies                          119390 non-null  int64  \n",
            " 12  meal                            119390 non-null  object \n",
            " 13  country                         118902 non-null  object \n",
            " 14  market_segment                  119390 non-null  object \n",
            " 15  distribution_channel            119390 non-null  object \n",
            " 16  is_repeated_guest               119390 non-null  int64  \n",
            " 17  previous_cancellations          119390 non-null  int64  \n",
            " 18  previous_bookings_not_canceled  119390 non-null  int64  \n",
            " 19  reserved_room_type              119390 non-null  object \n",
            " 20  assigned_room_type              119390 non-null  object \n",
            " 21  booking_changes                 119390 non-null  int64  \n",
            " 22  deposit_type                    119390 non-null  object \n",
            " 23  agent                           103050 non-null  float64\n",
            " 24  company                         6797 non-null    float64\n",
            " 25  days_in_waiting_list            119390 non-null  int64  \n",
            " 26  customer_type                   119390 non-null  object \n",
            " 27  adr                             119390 non-null  float64\n",
            " 28  required_car_parking_spaces     119390 non-null  int64  \n",
            " 29  total_of_special_requests       119390 non-null  int64  \n",
            " 30  reservation_status              119390 non-null  object \n",
            " 31  reservation_status_date         119390 non-null  object \n",
            "dtypes: float64(4), int64(16), object(12)\n",
            "memory usage: 29.1+ MB\n"
          ]
        }
      ]
    },
    {
      "cell_type": "markdown",
      "source": [
        "The dataset have **<font color='green'>32 variables (Continuous and Categorical)</font>** with one identified dependent variable (categorical), which is 'is_cancelled."
      ],
      "metadata": {
        "id": "XmszD7UEZUCH"
      }
    },
    {
      "cell_type": "markdown",
      "source": [
        "We can see that the percent of City hotel is more compared to Resort hotel."
      ],
      "metadata": {
        "id": "wws3DQu6gfhC"
      }
    },
    {
      "cell_type": "markdown",
      "source": [
        "* ###  <font color=green>We can see that the percent of City hotel is more compared to Resort hotel. \n",
        "* ###   <font color=green>Resort Hotel tend to be on the expensive side and most people will just stick with city hotel."
      ],
      "metadata": {
        "id": "G6FrA9nugnZZ"
      }
    },
    {
      "cell_type": "markdown",
      "source": [],
      "metadata": {
        "id": "OvGKZtphgpC4"
      }
    },
    {
      "cell_type": "markdown",
      "source": [
        "# <font color=blue>2. Cleaning the Data</font>"
      ],
      "metadata": {
        "id": "dqYy-htVhKiA"
      }
    },
    {
      "cell_type": "code",
      "source": [
        "#Checking the missing values in the columns\n",
        "\n",
        "df.isnull().sum().sort_values(ascending=False)[:6]"
      ],
      "metadata": {
        "colab": {
          "base_uri": "https://localhost:8080/"
        },
        "id": "oQCsN4ZrhPfx",
        "outputId": "7b241713-1f96-4768-aef4-1702ad1dc8ee"
      },
      "execution_count": null,
      "outputs": [
        {
          "output_type": "execute_result",
          "data": {
            "text/plain": [
              "company               112593\n",
              "agent                  16340\n",
              "country                  488\n",
              "children                   4\n",
              "reserved_room_type         0\n",
              "assigned_room_type         0\n",
              "dtype: int64"
            ]
          },
          "metadata": {},
          "execution_count": 254
        }
      ]
    },
    {
      "cell_type": "code",
      "source": [
        "df['agent'].value_counts()"
      ],
      "metadata": {
        "colab": {
          "base_uri": "https://localhost:8080/"
        },
        "id": "0vRV5zfE4I3n",
        "outputId": "0fd4a8e0-d14e-4788-fdd4-1a8004cafc8c"
      },
      "execution_count": null,
      "outputs": [
        {
          "output_type": "execute_result",
          "data": {
            "text/plain": [
              "9.0      31961\n",
              "240.0    13922\n",
              "1.0       7191\n",
              "14.0      3640\n",
              "7.0       3539\n",
              "         ...  \n",
              "289.0        1\n",
              "432.0        1\n",
              "265.0        1\n",
              "93.0         1\n",
              "304.0        1\n",
              "Name: agent, Length: 333, dtype: int64"
            ]
          },
          "metadata": {},
          "execution_count": 255
        }
      ]
    },
    {
      "cell_type": "code",
      "source": [
        "df['agent'].fillna(value=9.0,inplace = True)"
      ],
      "metadata": {
        "id": "VipAOX8M7FKf"
      },
      "execution_count": null,
      "outputs": []
    },
    {
      "cell_type": "code",
      "source": [
        "df['company'].value_counts()"
      ],
      "metadata": {
        "colab": {
          "base_uri": "https://localhost:8080/"
        },
        "id": "-oXQFEv86beQ",
        "outputId": "1b338f13-ee31-45b7-8647-d085916950a8"
      },
      "execution_count": null,
      "outputs": [
        {
          "output_type": "execute_result",
          "data": {
            "text/plain": [
              "40.0     927\n",
              "223.0    784\n",
              "67.0     267\n",
              "45.0     250\n",
              "153.0    215\n",
              "        ... \n",
              "104.0      1\n",
              "531.0      1\n",
              "160.0      1\n",
              "413.0      1\n",
              "386.0      1\n",
              "Name: company, Length: 352, dtype: int64"
            ]
          },
          "metadata": {},
          "execution_count": 257
        }
      ]
    },
    {
      "cell_type": "code",
      "source": [
        "df['company'].fillna(value='no company',inplace = True)"
      ],
      "metadata": {
        "id": "Hkg2w9QI7RNf"
      },
      "execution_count": null,
      "outputs": []
    },
    {
      "cell_type": "code",
      "source": [
        "df.isnull().sum()"
      ],
      "metadata": {
        "colab": {
          "base_uri": "https://localhost:8080/"
        },
        "id": "gZQrl_e57U6K",
        "outputId": "d453960c-338c-4312-a465-2f931cc29e68"
      },
      "execution_count": null,
      "outputs": [
        {
          "output_type": "execute_result",
          "data": {
            "text/plain": [
              "hotel                               0\n",
              "is_canceled                         0\n",
              "lead_time                           0\n",
              "arrival_date_year                   0\n",
              "arrival_date_month                  0\n",
              "arrival_date_week_number            0\n",
              "arrival_date_day_of_month           0\n",
              "stays_in_weekend_nights             0\n",
              "stays_in_week_nights                0\n",
              "adults                              0\n",
              "children                            4\n",
              "babies                              0\n",
              "meal                                0\n",
              "country                           488\n",
              "market_segment                      0\n",
              "distribution_channel                0\n",
              "is_repeated_guest                   0\n",
              "previous_cancellations              0\n",
              "previous_bookings_not_canceled      0\n",
              "reserved_room_type                  0\n",
              "assigned_room_type                  0\n",
              "booking_changes                     0\n",
              "deposit_type                        0\n",
              "agent                               0\n",
              "company                             0\n",
              "days_in_waiting_list                0\n",
              "customer_type                       0\n",
              "adr                                 0\n",
              "required_car_parking_spaces         0\n",
              "total_of_special_requests           0\n",
              "reservation_status                  0\n",
              "reservation_status_date             0\n",
              "dtype: int64"
            ]
          },
          "metadata": {},
          "execution_count": 259
        }
      ]
    },
    {
      "cell_type": "code",
      "source": [
        "df['country'].value_counts()"
      ],
      "metadata": {
        "colab": {
          "base_uri": "https://localhost:8080/"
        },
        "id": "GkjvN2BP7cgX",
        "outputId": "d00013e6-2a67-4700-a11d-cd8c07a628ac"
      },
      "execution_count": null,
      "outputs": [
        {
          "output_type": "execute_result",
          "data": {
            "text/plain": [
              "PRT    48590\n",
              "GBR    12129\n",
              "FRA    10415\n",
              "ESP     8568\n",
              "DEU     7287\n",
              "       ...  \n",
              "DJI        1\n",
              "BWA        1\n",
              "HND        1\n",
              "VGB        1\n",
              "NAM        1\n",
              "Name: country, Length: 177, dtype: int64"
            ]
          },
          "metadata": {},
          "execution_count": 260
        }
      ]
    },
    {
      "cell_type": "code",
      "source": [
        "df['country'].fillna(value= 'PRT' ,inplace = True)"
      ],
      "metadata": {
        "id": "I8zPjEiN7gxX"
      },
      "execution_count": null,
      "outputs": []
    },
    {
      "cell_type": "code",
      "source": [
        "print(df.shape)"
      ],
      "metadata": {
        "colab": {
          "base_uri": "https://localhost:8080/"
        },
        "id": "YOaheHPT4j_i",
        "outputId": "e45ccd48-39d9-4f2a-bfa4-07bd1c88f6c2"
      },
      "execution_count": null,
      "outputs": [
        {
          "output_type": "stream",
          "name": "stdout",
          "text": [
            "(119390, 32)\n"
          ]
        }
      ]
    },
    {
      "cell_type": "code",
      "source": [
        "df.isnull().sum()"
      ],
      "metadata": {
        "colab": {
          "base_uri": "https://localhost:8080/"
        },
        "id": "ZEqIXpyR7jtC",
        "outputId": "d4c74184-5cb7-4134-9712-f45862b3a49f"
      },
      "execution_count": null,
      "outputs": [
        {
          "output_type": "execute_result",
          "data": {
            "text/plain": [
              "hotel                             0\n",
              "is_canceled                       0\n",
              "lead_time                         0\n",
              "arrival_date_year                 0\n",
              "arrival_date_month                0\n",
              "arrival_date_week_number          0\n",
              "arrival_date_day_of_month         0\n",
              "stays_in_weekend_nights           0\n",
              "stays_in_week_nights              0\n",
              "adults                            0\n",
              "children                          4\n",
              "babies                            0\n",
              "meal                              0\n",
              "country                           0\n",
              "market_segment                    0\n",
              "distribution_channel              0\n",
              "is_repeated_guest                 0\n",
              "previous_cancellations            0\n",
              "previous_bookings_not_canceled    0\n",
              "reserved_room_type                0\n",
              "assigned_room_type                0\n",
              "booking_changes                   0\n",
              "deposit_type                      0\n",
              "agent                             0\n",
              "company                           0\n",
              "days_in_waiting_list              0\n",
              "customer_type                     0\n",
              "adr                               0\n",
              "required_car_parking_spaces       0\n",
              "total_of_special_requests         0\n",
              "reservation_status                0\n",
              "reservation_status_date           0\n",
              "dtype: int64"
            ]
          },
          "metadata": {},
          "execution_count": 263
        }
      ]
    },
    {
      "cell_type": "code",
      "source": [
        "df['children'].value_counts()"
      ],
      "metadata": {
        "colab": {
          "base_uri": "https://localhost:8080/"
        },
        "id": "vBP59oei7oLU",
        "outputId": "e87e756b-d200-4788-ba54-06c098bcdeec"
      },
      "execution_count": null,
      "outputs": [
        {
          "output_type": "execute_result",
          "data": {
            "text/plain": [
              "0.0     110796\n",
              "1.0       4861\n",
              "2.0       3652\n",
              "3.0         76\n",
              "10.0         1\n",
              "Name: children, dtype: int64"
            ]
          },
          "metadata": {},
          "execution_count": 264
        }
      ]
    },
    {
      "cell_type": "code",
      "source": [
        "df['children'].fillna(value= 0.0 ,inplace = True)"
      ],
      "metadata": {
        "id": "o0OtORAC7p2G"
      },
      "execution_count": null,
      "outputs": []
    },
    {
      "cell_type": "code",
      "source": [
        "df.isnull().sum().sort_values(ascending=False)[:6]"
      ],
      "metadata": {
        "colab": {
          "base_uri": "https://localhost:8080/"
        },
        "id": "JUYEN7Pe7vKe",
        "outputId": "8ec5a250-f50b-4b04-8cec-057ee27e1d41"
      },
      "execution_count": null,
      "outputs": [
        {
          "output_type": "execute_result",
          "data": {
            "text/plain": [
              "hotel                          0\n",
              "is_canceled                    0\n",
              "reservation_status             0\n",
              "total_of_special_requests      0\n",
              "required_car_parking_spaces    0\n",
              "adr                            0\n",
              "dtype: int64"
            ]
          },
          "metadata": {},
          "execution_count": 267
        }
      ]
    },
    {
      "cell_type": "code",
      "source": [
        "#Column-wise null percentage\n",
        "\n",
        "#print(round(100*(hotel.isnull().sum()/len(hotel.index)),2))\n"
      ],
      "metadata": {
        "id": "5p0zh1mBhTOg"
      },
      "execution_count": null,
      "outputs": []
    },
    {
      "cell_type": "markdown",
      "source": [
        "### The dataset **<font color='blue'>contains Missing values </font>**.\n"
      ],
      "metadata": {
        "id": "MQK8hSdvhabo"
      }
    },
    {
      "cell_type": "markdown",
      "source": [
        "### **<font color='black'>Lets drop columns with high missing values</font>**."
      ],
      "metadata": {
        "id": "vpbZbtnshmPA"
      }
    },
    {
      "cell_type": "code",
      "source": [
        "#hotel=hotel.drop(['agent','company'],axis=1)\n"
      ],
      "metadata": {
        "id": "sRbULfJWhowg"
      },
      "execution_count": null,
      "outputs": []
    },
    {
      "cell_type": "markdown",
      "source": [
        "### <font color=green>Country has 488 rows with the NaN values. 488 rows out of 119390 is negligible hence we will just remove.</font>"
      ],
      "metadata": {
        "id": "axXT8wK-hynv"
      }
    },
    {
      "cell_type": "code",
      "source": [
        "#hotel = hotel.dropna(axis = 0)"
      ],
      "metadata": {
        "id": "QDuMA6dwh3gp"
      },
      "execution_count": null,
      "outputs": []
    },
    {
      "cell_type": "code",
      "source": [
        "#hotel.isnull().sum()"
      ],
      "metadata": {
        "id": "ej6_KwRLh5E4"
      },
      "execution_count": null,
      "outputs": []
    },
    {
      "cell_type": "markdown",
      "source": [
        "### <font color=green>No more missing values in the data</font>"
      ],
      "metadata": {
        "id": "4f6oqrrlh7Uf"
      }
    },
    {
      "cell_type": "markdown",
      "source": [
        "[](http://)### Lets Rename the columns for better readability"
      ],
      "metadata": {
        "id": "MxNinoaeiKCf"
      }
    },
    {
      "cell_type": "code",
      "source": [
        "df.shape"
      ],
      "metadata": {
        "colab": {
          "base_uri": "https://localhost:8080/"
        },
        "id": "1Xo4UgOP9DWg",
        "outputId": "8787c78e-3107-42be-c4e4-f1426e45aaf7"
      },
      "execution_count": null,
      "outputs": [
        {
          "output_type": "execute_result",
          "data": {
            "text/plain": [
              "(119390, 32)"
            ]
          },
          "metadata": {},
          "execution_count": 204
        }
      ]
    },
    {
      "cell_type": "code",
      "source": [
        "df.columns = ['Hotel', 'Canceled', 'LeadTime', 'ArrivingYear', 'ArrivingMonth', 'ArrivingWeek','ArrivingDate', 'WeekendStay',\n",
        "              'WeekStay', 'Adults', 'Children', 'Babies', 'Meal','Country', 'Segment', 'DistChannel','RepeatGuest', 'PrevCancel',\n",
        "              'PrevBook', 'BookRoomType','AssignRoomType', 'ChangeBooking', 'DepositType','agent', 'company', 'WaitingDays', \n",
        "              'CustomerType', 'ADR','ParkSpace', 'SpecialRequest','Reservation', 'ReservationDate']"
      ],
      "metadata": {
        "id": "l7tEWaP7iNTN"
      },
      "execution_count": null,
      "outputs": []
    },
    {
      "cell_type": "markdown",
      "source": [
        "## <font color=blue>Identify Continuous and Categorical Variables</font>"
      ],
      "metadata": {
        "id": "BssTH9QSiVUv"
      }
    },
    {
      "cell_type": "code",
      "source": [
        "def var(hotel):\n",
        "    unique_list = pd.DataFrame([[i,len(hotel[i].unique())] for i in hotel.columns])\n",
        "    unique_list.columns = ['name','uniques']\n",
        "\n",
        "    total_var = set(hotel.columns)\n",
        "    cat_var = set(unique_list.name[(unique_list.uniques<=12)      | \n",
        "                                   (unique_list.name=='Country')  | \n",
        "                                   (unique_list.name=='Agent')                                     \n",
        "                                  ])\n",
        "    con_var = total_var - cat_var\n",
        "    \n",
        "    return cat_var, con_var \n",
        "\n",
        "\n",
        "cat_var, con_var = var(hotel)\n",
        "\n",
        "print(\"Continuous Variables (\",len(con_var),\")\\n\",con_var,'\\n\\n'\n",
        "      \"Categorical Variables(\",len(cat_var),\")\\n\",cat_var)"
      ],
      "metadata": {
        "colab": {
          "base_uri": "https://localhost:8080/"
        },
        "id": "LcVNddhpiXy8",
        "outputId": "b1fb1195-4a5f-42de-8efd-d6b839ec1b1b"
      },
      "execution_count": null,
      "outputs": [
        {
          "output_type": "stream",
          "name": "stdout",
          "text": [
            "Continuous Variables ( 7 )\n",
            " {'ArrivingDate', 'ArrivingWeek', 'adr_pp', 'LeadTime', 'ReservationDate', 'ADR', 'Arrival Date'} \n",
            "\n",
            "Categorical Variables( 27 )\n",
            " {'RepeatGuest', 'Country', 'Adults', 'ChangeBooking', 'Meal', 'Hotel', 'Kids', 'WeekendStay', 'PrevCancel', 'BookRoomType', 'ParkSpace', 'PrevBook', 'SpecialRequest', 'Children', 'WaitingDays', 'Canceled', 'AssignRoomType', 'total_members', 'ArrivingYear', 'ArrivingMonth', 'Segment', 'CustomerType', 'Babies', 'DistChannel', 'DepositType', 'Reservation', 'WeekStay'}\n"
          ]
        }
      ]
    },
    {
      "cell_type": "code",
      "source": [
        "#Checking outliers in continuous variables\n",
        "hotel[con_var].describe()"
      ],
      "metadata": {
        "colab": {
          "base_uri": "https://localhost:8080/",
          "height": 300
        },
        "id": "9gpwuZMpi4an",
        "outputId": "6473a3b0-6c66-4ff0-ea5d-131f5eece60c"
      },
      "execution_count": null,
      "outputs": [
        {
          "output_type": "execute_result",
          "data": {
            "text/plain": [
              "        ArrivingWeek     adr_pp       LeadTime            ADR\n",
              "count  118759.000000  118759.00  118759.000000  118759.000000\n",
              "mean       27.165773        inf     104.134381     102.122631\n",
              "std        13.586993        NaN     105.839353      50.394575\n",
              "min         1.000000      -3.19       0.000000      -6.380000\n",
              "25%        16.000000      37.50      18.000000      70.000000\n",
              "50%        28.000000      49.50      70.000000      95.000000\n",
              "75%        38.000000      66.15     161.000000     126.000000\n",
              "max        53.000000        inf     500.000000    5400.000000"
            ],
            "text/html": [
              "\n",
              "  <div id=\"df-c22fef0d-32c1-4ff5-91d6-e9751b26399d\">\n",
              "    <div class=\"colab-df-container\">\n",
              "      <div>\n",
              "<style scoped>\n",
              "    .dataframe tbody tr th:only-of-type {\n",
              "        vertical-align: middle;\n",
              "    }\n",
              "\n",
              "    .dataframe tbody tr th {\n",
              "        vertical-align: top;\n",
              "    }\n",
              "\n",
              "    .dataframe thead th {\n",
              "        text-align: right;\n",
              "    }\n",
              "</style>\n",
              "<table border=\"1\" class=\"dataframe\">\n",
              "  <thead>\n",
              "    <tr style=\"text-align: right;\">\n",
              "      <th></th>\n",
              "      <th>ArrivingWeek</th>\n",
              "      <th>adr_pp</th>\n",
              "      <th>LeadTime</th>\n",
              "      <th>ADR</th>\n",
              "    </tr>\n",
              "  </thead>\n",
              "  <tbody>\n",
              "    <tr>\n",
              "      <th>count</th>\n",
              "      <td>118759.000000</td>\n",
              "      <td>118759.00</td>\n",
              "      <td>118759.000000</td>\n",
              "      <td>118759.000000</td>\n",
              "    </tr>\n",
              "    <tr>\n",
              "      <th>mean</th>\n",
              "      <td>27.165773</td>\n",
              "      <td>inf</td>\n",
              "      <td>104.134381</td>\n",
              "      <td>102.122631</td>\n",
              "    </tr>\n",
              "    <tr>\n",
              "      <th>std</th>\n",
              "      <td>13.586993</td>\n",
              "      <td>NaN</td>\n",
              "      <td>105.839353</td>\n",
              "      <td>50.394575</td>\n",
              "    </tr>\n",
              "    <tr>\n",
              "      <th>min</th>\n",
              "      <td>1.000000</td>\n",
              "      <td>-3.19</td>\n",
              "      <td>0.000000</td>\n",
              "      <td>-6.380000</td>\n",
              "    </tr>\n",
              "    <tr>\n",
              "      <th>25%</th>\n",
              "      <td>16.000000</td>\n",
              "      <td>37.50</td>\n",
              "      <td>18.000000</td>\n",
              "      <td>70.000000</td>\n",
              "    </tr>\n",
              "    <tr>\n",
              "      <th>50%</th>\n",
              "      <td>28.000000</td>\n",
              "      <td>49.50</td>\n",
              "      <td>70.000000</td>\n",
              "      <td>95.000000</td>\n",
              "    </tr>\n",
              "    <tr>\n",
              "      <th>75%</th>\n",
              "      <td>38.000000</td>\n",
              "      <td>66.15</td>\n",
              "      <td>161.000000</td>\n",
              "      <td>126.000000</td>\n",
              "    </tr>\n",
              "    <tr>\n",
              "      <th>max</th>\n",
              "      <td>53.000000</td>\n",
              "      <td>inf</td>\n",
              "      <td>500.000000</td>\n",
              "      <td>5400.000000</td>\n",
              "    </tr>\n",
              "  </tbody>\n",
              "</table>\n",
              "</div>\n",
              "      <button class=\"colab-df-convert\" onclick=\"convertToInteractive('df-c22fef0d-32c1-4ff5-91d6-e9751b26399d')\"\n",
              "              title=\"Convert this dataframe to an interactive table.\"\n",
              "              style=\"display:none;\">\n",
              "        \n",
              "  <svg xmlns=\"http://www.w3.org/2000/svg\" height=\"24px\"viewBox=\"0 0 24 24\"\n",
              "       width=\"24px\">\n",
              "    <path d=\"M0 0h24v24H0V0z\" fill=\"none\"/>\n",
              "    <path d=\"M18.56 5.44l.94 2.06.94-2.06 2.06-.94-2.06-.94-.94-2.06-.94 2.06-2.06.94zm-11 1L8.5 8.5l.94-2.06 2.06-.94-2.06-.94L8.5 2.5l-.94 2.06-2.06.94zm10 10l.94 2.06.94-2.06 2.06-.94-2.06-.94-.94-2.06-.94 2.06-2.06.94z\"/><path d=\"M17.41 7.96l-1.37-1.37c-.4-.4-.92-.59-1.43-.59-.52 0-1.04.2-1.43.59L10.3 9.45l-7.72 7.72c-.78.78-.78 2.05 0 2.83L4 21.41c.39.39.9.59 1.41.59.51 0 1.02-.2 1.41-.59l7.78-7.78 2.81-2.81c.8-.78.8-2.07 0-2.86zM5.41 20L4 18.59l7.72-7.72 1.47 1.35L5.41 20z\"/>\n",
              "  </svg>\n",
              "      </button>\n",
              "      \n",
              "  <style>\n",
              "    .colab-df-container {\n",
              "      display:flex;\n",
              "      flex-wrap:wrap;\n",
              "      gap: 12px;\n",
              "    }\n",
              "\n",
              "    .colab-df-convert {\n",
              "      background-color: #E8F0FE;\n",
              "      border: none;\n",
              "      border-radius: 50%;\n",
              "      cursor: pointer;\n",
              "      display: none;\n",
              "      fill: #1967D2;\n",
              "      height: 32px;\n",
              "      padding: 0 0 0 0;\n",
              "      width: 32px;\n",
              "    }\n",
              "\n",
              "    .colab-df-convert:hover {\n",
              "      background-color: #E2EBFA;\n",
              "      box-shadow: 0px 1px 2px rgba(60, 64, 67, 0.3), 0px 1px 3px 1px rgba(60, 64, 67, 0.15);\n",
              "      fill: #174EA6;\n",
              "    }\n",
              "\n",
              "    [theme=dark] .colab-df-convert {\n",
              "      background-color: #3B4455;\n",
              "      fill: #D2E3FC;\n",
              "    }\n",
              "\n",
              "    [theme=dark] .colab-df-convert:hover {\n",
              "      background-color: #434B5C;\n",
              "      box-shadow: 0px 1px 3px 1px rgba(0, 0, 0, 0.15);\n",
              "      filter: drop-shadow(0px 1px 2px rgba(0, 0, 0, 0.3));\n",
              "      fill: #FFFFFF;\n",
              "    }\n",
              "  </style>\n",
              "\n",
              "      <script>\n",
              "        const buttonEl =\n",
              "          document.querySelector('#df-c22fef0d-32c1-4ff5-91d6-e9751b26399d button.colab-df-convert');\n",
              "        buttonEl.style.display =\n",
              "          google.colab.kernel.accessAllowed ? 'block' : 'none';\n",
              "\n",
              "        async function convertToInteractive(key) {\n",
              "          const element = document.querySelector('#df-c22fef0d-32c1-4ff5-91d6-e9751b26399d');\n",
              "          const dataTable =\n",
              "            await google.colab.kernel.invokeFunction('convertToInteractive',\n",
              "                                                     [key], {});\n",
              "          if (!dataTable) return;\n",
              "\n",
              "          const docLinkHtml = 'Like what you see? Visit the ' +\n",
              "            '<a target=\"_blank\" href=https://colab.research.google.com/notebooks/data_table.ipynb>data table notebook</a>'\n",
              "            + ' to learn more about interactive tables.';\n",
              "          element.innerHTML = '';\n",
              "          dataTable['output_type'] = 'display_data';\n",
              "          await google.colab.output.renderOutput(dataTable, element);\n",
              "          const docLink = document.createElement('div');\n",
              "          docLink.innerHTML = docLinkHtml;\n",
              "          element.appendChild(docLink);\n",
              "        }\n",
              "      </script>\n",
              "    </div>\n",
              "  </div>\n",
              "  "
            ]
          },
          "metadata": {},
          "execution_count": 207
        }
      ]
    },
    {
      "cell_type": "markdown",
      "source": [
        "- ### List of Continuous Variables with Outliers identified through **<font color='green'>Summary Statistics</font>** are:\n",
        "    - LeadTime\n",
        "    - WaitingDays\n",
        "    - WeekendStay\n",
        "    - Adults\n",
        "    - PrevBook\n",
        "    - PrevCancel\n",
        "    - WeekStay\n",
        "    \n",
        " - ### List of Continuous Variables which should be Categorical\n",
        "    - PrevBook\n",
        "    - PrevCancel"
      ],
      "metadata": {
        "id": "zLCjDbgdi9Vx"
      }
    },
    {
      "cell_type": "markdown",
      "source": [
        "* > >  ## <font color=blue>Imputing the Outliers (for Continuous Variable)</font>"
      ],
      "metadata": {
        "id": "cCLjlD8gjAwg"
      }
    },
    {
      "cell_type": "code",
      "source": [
        "hotel.loc[hotel.LeadTime      > 500,'LeadTime'     ]=500\n",
        "hotel.loc[hotel.WaitingDays   >   0,'WaitingDays'  ]=  1\n",
        "hotel.loc[hotel.WeekendStay   >=  5,'WeekendStay'  ]=  5\n",
        "hotel.loc[hotel.Adults        >   4,'Adults'       ]=  4\n",
        "hotel.loc[hotel.PrevBook      >   0,'PrevBook'     ]=  1\n",
        "hotel.loc[hotel.PrevCancel    >   0,'PrevCancel'   ]=  1\n",
        "hotel.loc[hotel.WeekStay      >  10,'WeekStay'     ]= 10\n",
        "hotel.loc[hotel.ChangeBooking >   5,'ChangeBooking']=  5\n",
        "\n",
        "cat_var = set(list(cat_var) + ['PrevBook','PrevCancel'])\n",
        "con_var = set(hotel.columns) - cat_var\n",
        "\n",
        "hotel[con_var].describe()"
      ],
      "metadata": {
        "colab": {
          "base_uri": "https://localhost:8080/",
          "height": 300
        },
        "id": "RODwvYP_jD7o",
        "outputId": "b6d42eb6-1d80-41e5-b7c6-f5c62629f8e6"
      },
      "execution_count": null,
      "outputs": [
        {
          "output_type": "execute_result",
          "data": {
            "text/plain": [
              "        ArrivingWeek     adr_pp       LeadTime            ADR\n",
              "count  118759.000000  118759.00  118759.000000  118759.000000\n",
              "mean       27.165773        inf     104.134381     102.122631\n",
              "std        13.586993        NaN     105.839353      50.394575\n",
              "min         1.000000      -3.19       0.000000      -6.380000\n",
              "25%        16.000000      37.50      18.000000      70.000000\n",
              "50%        28.000000      49.50      70.000000      95.000000\n",
              "75%        38.000000      66.15     161.000000     126.000000\n",
              "max        53.000000        inf     500.000000    5400.000000"
            ],
            "text/html": [
              "\n",
              "  <div id=\"df-98bc32c9-9255-45f5-9039-d7e0ba9363d7\">\n",
              "    <div class=\"colab-df-container\">\n",
              "      <div>\n",
              "<style scoped>\n",
              "    .dataframe tbody tr th:only-of-type {\n",
              "        vertical-align: middle;\n",
              "    }\n",
              "\n",
              "    .dataframe tbody tr th {\n",
              "        vertical-align: top;\n",
              "    }\n",
              "\n",
              "    .dataframe thead th {\n",
              "        text-align: right;\n",
              "    }\n",
              "</style>\n",
              "<table border=\"1\" class=\"dataframe\">\n",
              "  <thead>\n",
              "    <tr style=\"text-align: right;\">\n",
              "      <th></th>\n",
              "      <th>ArrivingWeek</th>\n",
              "      <th>adr_pp</th>\n",
              "      <th>LeadTime</th>\n",
              "      <th>ADR</th>\n",
              "    </tr>\n",
              "  </thead>\n",
              "  <tbody>\n",
              "    <tr>\n",
              "      <th>count</th>\n",
              "      <td>118759.000000</td>\n",
              "      <td>118759.00</td>\n",
              "      <td>118759.000000</td>\n",
              "      <td>118759.000000</td>\n",
              "    </tr>\n",
              "    <tr>\n",
              "      <th>mean</th>\n",
              "      <td>27.165773</td>\n",
              "      <td>inf</td>\n",
              "      <td>104.134381</td>\n",
              "      <td>102.122631</td>\n",
              "    </tr>\n",
              "    <tr>\n",
              "      <th>std</th>\n",
              "      <td>13.586993</td>\n",
              "      <td>NaN</td>\n",
              "      <td>105.839353</td>\n",
              "      <td>50.394575</td>\n",
              "    </tr>\n",
              "    <tr>\n",
              "      <th>min</th>\n",
              "      <td>1.000000</td>\n",
              "      <td>-3.19</td>\n",
              "      <td>0.000000</td>\n",
              "      <td>-6.380000</td>\n",
              "    </tr>\n",
              "    <tr>\n",
              "      <th>25%</th>\n",
              "      <td>16.000000</td>\n",
              "      <td>37.50</td>\n",
              "      <td>18.000000</td>\n",
              "      <td>70.000000</td>\n",
              "    </tr>\n",
              "    <tr>\n",
              "      <th>50%</th>\n",
              "      <td>28.000000</td>\n",
              "      <td>49.50</td>\n",
              "      <td>70.000000</td>\n",
              "      <td>95.000000</td>\n",
              "    </tr>\n",
              "    <tr>\n",
              "      <th>75%</th>\n",
              "      <td>38.000000</td>\n",
              "      <td>66.15</td>\n",
              "      <td>161.000000</td>\n",
              "      <td>126.000000</td>\n",
              "    </tr>\n",
              "    <tr>\n",
              "      <th>max</th>\n",
              "      <td>53.000000</td>\n",
              "      <td>inf</td>\n",
              "      <td>500.000000</td>\n",
              "      <td>5400.000000</td>\n",
              "    </tr>\n",
              "  </tbody>\n",
              "</table>\n",
              "</div>\n",
              "      <button class=\"colab-df-convert\" onclick=\"convertToInteractive('df-98bc32c9-9255-45f5-9039-d7e0ba9363d7')\"\n",
              "              title=\"Convert this dataframe to an interactive table.\"\n",
              "              style=\"display:none;\">\n",
              "        \n",
              "  <svg xmlns=\"http://www.w3.org/2000/svg\" height=\"24px\"viewBox=\"0 0 24 24\"\n",
              "       width=\"24px\">\n",
              "    <path d=\"M0 0h24v24H0V0z\" fill=\"none\"/>\n",
              "    <path d=\"M18.56 5.44l.94 2.06.94-2.06 2.06-.94-2.06-.94-.94-2.06-.94 2.06-2.06.94zm-11 1L8.5 8.5l.94-2.06 2.06-.94-2.06-.94L8.5 2.5l-.94 2.06-2.06.94zm10 10l.94 2.06.94-2.06 2.06-.94-2.06-.94-.94-2.06-.94 2.06-2.06.94z\"/><path d=\"M17.41 7.96l-1.37-1.37c-.4-.4-.92-.59-1.43-.59-.52 0-1.04.2-1.43.59L10.3 9.45l-7.72 7.72c-.78.78-.78 2.05 0 2.83L4 21.41c.39.39.9.59 1.41.59.51 0 1.02-.2 1.41-.59l7.78-7.78 2.81-2.81c.8-.78.8-2.07 0-2.86zM5.41 20L4 18.59l7.72-7.72 1.47 1.35L5.41 20z\"/>\n",
              "  </svg>\n",
              "      </button>\n",
              "      \n",
              "  <style>\n",
              "    .colab-df-container {\n",
              "      display:flex;\n",
              "      flex-wrap:wrap;\n",
              "      gap: 12px;\n",
              "    }\n",
              "\n",
              "    .colab-df-convert {\n",
              "      background-color: #E8F0FE;\n",
              "      border: none;\n",
              "      border-radius: 50%;\n",
              "      cursor: pointer;\n",
              "      display: none;\n",
              "      fill: #1967D2;\n",
              "      height: 32px;\n",
              "      padding: 0 0 0 0;\n",
              "      width: 32px;\n",
              "    }\n",
              "\n",
              "    .colab-df-convert:hover {\n",
              "      background-color: #E2EBFA;\n",
              "      box-shadow: 0px 1px 2px rgba(60, 64, 67, 0.3), 0px 1px 3px 1px rgba(60, 64, 67, 0.15);\n",
              "      fill: #174EA6;\n",
              "    }\n",
              "\n",
              "    [theme=dark] .colab-df-convert {\n",
              "      background-color: #3B4455;\n",
              "      fill: #D2E3FC;\n",
              "    }\n",
              "\n",
              "    [theme=dark] .colab-df-convert:hover {\n",
              "      background-color: #434B5C;\n",
              "      box-shadow: 0px 1px 3px 1px rgba(0, 0, 0, 0.15);\n",
              "      filter: drop-shadow(0px 1px 2px rgba(0, 0, 0, 0.3));\n",
              "      fill: #FFFFFF;\n",
              "    }\n",
              "  </style>\n",
              "\n",
              "      <script>\n",
              "        const buttonEl =\n",
              "          document.querySelector('#df-98bc32c9-9255-45f5-9039-d7e0ba9363d7 button.colab-df-convert');\n",
              "        buttonEl.style.display =\n",
              "          google.colab.kernel.accessAllowed ? 'block' : 'none';\n",
              "\n",
              "        async function convertToInteractive(key) {\n",
              "          const element = document.querySelector('#df-98bc32c9-9255-45f5-9039-d7e0ba9363d7');\n",
              "          const dataTable =\n",
              "            await google.colab.kernel.invokeFunction('convertToInteractive',\n",
              "                                                     [key], {});\n",
              "          if (!dataTable) return;\n",
              "\n",
              "          const docLinkHtml = 'Like what you see? Visit the ' +\n",
              "            '<a target=\"_blank\" href=https://colab.research.google.com/notebooks/data_table.ipynb>data table notebook</a>'\n",
              "            + ' to learn more about interactive tables.';\n",
              "          element.innerHTML = '';\n",
              "          dataTable['output_type'] = 'display_data';\n",
              "          await google.colab.output.renderOutput(dataTable, element);\n",
              "          const docLink = document.createElement('div');\n",
              "          docLink.innerHTML = docLinkHtml;\n",
              "          element.appendChild(docLink);\n",
              "        }\n",
              "      </script>\n",
              "    </div>\n",
              "  </div>\n",
              "  "
            ]
          },
          "metadata": {},
          "execution_count": 208
        }
      ]
    },
    {
      "cell_type": "code",
      "source": [
        "#outliers in categorical variables\n",
        "hotel[cat_var].describe()"
      ],
      "metadata": {
        "colab": {
          "base_uri": "https://localhost:8080/",
          "height": 364
        },
        "id": "4TCmoK0_jHFf",
        "outputId": "e281e580-cbd0-42da-fe8b-3c095cb46788"
      },
      "execution_count": null,
      "outputs": [
        {
          "output_type": "execute_result",
          "data": {
            "text/plain": [
              "              Adults  ChangeBooking    WeekendStay     PrevCancel  \\\n",
              "count  118759.000000  118759.000000  118759.000000  118759.000000   \n",
              "mean        1.857779       0.216076       0.924183       0.054253   \n",
              "std         0.484331       0.599504       0.967122       0.226517   \n",
              "min         0.000000       0.000000       0.000000       0.000000   \n",
              "25%         2.000000       0.000000       0.000000       0.000000   \n",
              "50%         2.000000       0.000000       1.000000       0.000000   \n",
              "75%         2.000000       0.000000       2.000000       0.000000   \n",
              "max         4.000000       5.000000       5.000000       1.000000   \n",
              "\n",
              "           ParkSpace       PrevBook  SpecialRequest       WeekStay  \\\n",
              "count  118759.000000  118759.000000   118759.000000  118759.000000   \n",
              "mean        0.061797       0.028570        0.571822       2.481808   \n",
              "std         0.242079       0.166597        0.792757       1.758755   \n",
              "min         0.000000       0.000000        0.000000       0.000000   \n",
              "25%         0.000000       0.000000        0.000000       1.000000   \n",
              "50%         0.000000       0.000000        0.000000       2.000000   \n",
              "75%         0.000000       0.000000        1.000000       3.000000   \n",
              "max         3.000000       1.000000        5.000000      10.000000   \n",
              "\n",
              "            Children    WaitingDays  total_members         Babies  \\\n",
              "count  118759.000000  118759.000000  118759.000000  118759.000000   \n",
              "mean        0.104245       0.031097       1.969821       0.007797   \n",
              "std         0.398356       0.173580       0.647356       0.089288   \n",
              "min         0.000000       0.000000       0.000000       0.000000   \n",
              "25%         0.000000       0.000000       2.000000       0.000000   \n",
              "50%         0.000000       0.000000       2.000000       0.000000   \n",
              "75%         0.000000       0.000000       2.000000       0.000000   \n",
              "max         3.000000       1.000000       5.000000       2.000000   \n",
              "\n",
              "                Kids  \n",
              "count  118759.000000  \n",
              "mean        0.112042  \n",
              "std         0.410574  \n",
              "min         0.000000  \n",
              "25%         0.000000  \n",
              "50%         0.000000  \n",
              "75%         0.000000  \n",
              "max         3.000000  "
            ],
            "text/html": [
              "\n",
              "  <div id=\"df-25df4b46-4f94-4467-bfc7-8009bb2ab496\">\n",
              "    <div class=\"colab-df-container\">\n",
              "      <div>\n",
              "<style scoped>\n",
              "    .dataframe tbody tr th:only-of-type {\n",
              "        vertical-align: middle;\n",
              "    }\n",
              "\n",
              "    .dataframe tbody tr th {\n",
              "        vertical-align: top;\n",
              "    }\n",
              "\n",
              "    .dataframe thead th {\n",
              "        text-align: right;\n",
              "    }\n",
              "</style>\n",
              "<table border=\"1\" class=\"dataframe\">\n",
              "  <thead>\n",
              "    <tr style=\"text-align: right;\">\n",
              "      <th></th>\n",
              "      <th>Adults</th>\n",
              "      <th>ChangeBooking</th>\n",
              "      <th>WeekendStay</th>\n",
              "      <th>PrevCancel</th>\n",
              "      <th>ParkSpace</th>\n",
              "      <th>PrevBook</th>\n",
              "      <th>SpecialRequest</th>\n",
              "      <th>WeekStay</th>\n",
              "      <th>Children</th>\n",
              "      <th>WaitingDays</th>\n",
              "      <th>total_members</th>\n",
              "      <th>Babies</th>\n",
              "      <th>Kids</th>\n",
              "    </tr>\n",
              "  </thead>\n",
              "  <tbody>\n",
              "    <tr>\n",
              "      <th>count</th>\n",
              "      <td>118759.000000</td>\n",
              "      <td>118759.000000</td>\n",
              "      <td>118759.000000</td>\n",
              "      <td>118759.000000</td>\n",
              "      <td>118759.000000</td>\n",
              "      <td>118759.000000</td>\n",
              "      <td>118759.000000</td>\n",
              "      <td>118759.000000</td>\n",
              "      <td>118759.000000</td>\n",
              "      <td>118759.000000</td>\n",
              "      <td>118759.000000</td>\n",
              "      <td>118759.000000</td>\n",
              "      <td>118759.000000</td>\n",
              "    </tr>\n",
              "    <tr>\n",
              "      <th>mean</th>\n",
              "      <td>1.857779</td>\n",
              "      <td>0.216076</td>\n",
              "      <td>0.924183</td>\n",
              "      <td>0.054253</td>\n",
              "      <td>0.061797</td>\n",
              "      <td>0.028570</td>\n",
              "      <td>0.571822</td>\n",
              "      <td>2.481808</td>\n",
              "      <td>0.104245</td>\n",
              "      <td>0.031097</td>\n",
              "      <td>1.969821</td>\n",
              "      <td>0.007797</td>\n",
              "      <td>0.112042</td>\n",
              "    </tr>\n",
              "    <tr>\n",
              "      <th>std</th>\n",
              "      <td>0.484331</td>\n",
              "      <td>0.599504</td>\n",
              "      <td>0.967122</td>\n",
              "      <td>0.226517</td>\n",
              "      <td>0.242079</td>\n",
              "      <td>0.166597</td>\n",
              "      <td>0.792757</td>\n",
              "      <td>1.758755</td>\n",
              "      <td>0.398356</td>\n",
              "      <td>0.173580</td>\n",
              "      <td>0.647356</td>\n",
              "      <td>0.089288</td>\n",
              "      <td>0.410574</td>\n",
              "    </tr>\n",
              "    <tr>\n",
              "      <th>min</th>\n",
              "      <td>0.000000</td>\n",
              "      <td>0.000000</td>\n",
              "      <td>0.000000</td>\n",
              "      <td>0.000000</td>\n",
              "      <td>0.000000</td>\n",
              "      <td>0.000000</td>\n",
              "      <td>0.000000</td>\n",
              "      <td>0.000000</td>\n",
              "      <td>0.000000</td>\n",
              "      <td>0.000000</td>\n",
              "      <td>0.000000</td>\n",
              "      <td>0.000000</td>\n",
              "      <td>0.000000</td>\n",
              "    </tr>\n",
              "    <tr>\n",
              "      <th>25%</th>\n",
              "      <td>2.000000</td>\n",
              "      <td>0.000000</td>\n",
              "      <td>0.000000</td>\n",
              "      <td>0.000000</td>\n",
              "      <td>0.000000</td>\n",
              "      <td>0.000000</td>\n",
              "      <td>0.000000</td>\n",
              "      <td>1.000000</td>\n",
              "      <td>0.000000</td>\n",
              "      <td>0.000000</td>\n",
              "      <td>2.000000</td>\n",
              "      <td>0.000000</td>\n",
              "      <td>0.000000</td>\n",
              "    </tr>\n",
              "    <tr>\n",
              "      <th>50%</th>\n",
              "      <td>2.000000</td>\n",
              "      <td>0.000000</td>\n",
              "      <td>1.000000</td>\n",
              "      <td>0.000000</td>\n",
              "      <td>0.000000</td>\n",
              "      <td>0.000000</td>\n",
              "      <td>0.000000</td>\n",
              "      <td>2.000000</td>\n",
              "      <td>0.000000</td>\n",
              "      <td>0.000000</td>\n",
              "      <td>2.000000</td>\n",
              "      <td>0.000000</td>\n",
              "      <td>0.000000</td>\n",
              "    </tr>\n",
              "    <tr>\n",
              "      <th>75%</th>\n",
              "      <td>2.000000</td>\n",
              "      <td>0.000000</td>\n",
              "      <td>2.000000</td>\n",
              "      <td>0.000000</td>\n",
              "      <td>0.000000</td>\n",
              "      <td>0.000000</td>\n",
              "      <td>1.000000</td>\n",
              "      <td>3.000000</td>\n",
              "      <td>0.000000</td>\n",
              "      <td>0.000000</td>\n",
              "      <td>2.000000</td>\n",
              "      <td>0.000000</td>\n",
              "      <td>0.000000</td>\n",
              "    </tr>\n",
              "    <tr>\n",
              "      <th>max</th>\n",
              "      <td>4.000000</td>\n",
              "      <td>5.000000</td>\n",
              "      <td>5.000000</td>\n",
              "      <td>1.000000</td>\n",
              "      <td>3.000000</td>\n",
              "      <td>1.000000</td>\n",
              "      <td>5.000000</td>\n",
              "      <td>10.000000</td>\n",
              "      <td>3.000000</td>\n",
              "      <td>1.000000</td>\n",
              "      <td>5.000000</td>\n",
              "      <td>2.000000</td>\n",
              "      <td>3.000000</td>\n",
              "    </tr>\n",
              "  </tbody>\n",
              "</table>\n",
              "</div>\n",
              "      <button class=\"colab-df-convert\" onclick=\"convertToInteractive('df-25df4b46-4f94-4467-bfc7-8009bb2ab496')\"\n",
              "              title=\"Convert this dataframe to an interactive table.\"\n",
              "              style=\"display:none;\">\n",
              "        \n",
              "  <svg xmlns=\"http://www.w3.org/2000/svg\" height=\"24px\"viewBox=\"0 0 24 24\"\n",
              "       width=\"24px\">\n",
              "    <path d=\"M0 0h24v24H0V0z\" fill=\"none\"/>\n",
              "    <path d=\"M18.56 5.44l.94 2.06.94-2.06 2.06-.94-2.06-.94-.94-2.06-.94 2.06-2.06.94zm-11 1L8.5 8.5l.94-2.06 2.06-.94-2.06-.94L8.5 2.5l-.94 2.06-2.06.94zm10 10l.94 2.06.94-2.06 2.06-.94-2.06-.94-.94-2.06-.94 2.06-2.06.94z\"/><path d=\"M17.41 7.96l-1.37-1.37c-.4-.4-.92-.59-1.43-.59-.52 0-1.04.2-1.43.59L10.3 9.45l-7.72 7.72c-.78.78-.78 2.05 0 2.83L4 21.41c.39.39.9.59 1.41.59.51 0 1.02-.2 1.41-.59l7.78-7.78 2.81-2.81c.8-.78.8-2.07 0-2.86zM5.41 20L4 18.59l7.72-7.72 1.47 1.35L5.41 20z\"/>\n",
              "  </svg>\n",
              "      </button>\n",
              "      \n",
              "  <style>\n",
              "    .colab-df-container {\n",
              "      display:flex;\n",
              "      flex-wrap:wrap;\n",
              "      gap: 12px;\n",
              "    }\n",
              "\n",
              "    .colab-df-convert {\n",
              "      background-color: #E8F0FE;\n",
              "      border: none;\n",
              "      border-radius: 50%;\n",
              "      cursor: pointer;\n",
              "      display: none;\n",
              "      fill: #1967D2;\n",
              "      height: 32px;\n",
              "      padding: 0 0 0 0;\n",
              "      width: 32px;\n",
              "    }\n",
              "\n",
              "    .colab-df-convert:hover {\n",
              "      background-color: #E2EBFA;\n",
              "      box-shadow: 0px 1px 2px rgba(60, 64, 67, 0.3), 0px 1px 3px 1px rgba(60, 64, 67, 0.15);\n",
              "      fill: #174EA6;\n",
              "    }\n",
              "\n",
              "    [theme=dark] .colab-df-convert {\n",
              "      background-color: #3B4455;\n",
              "      fill: #D2E3FC;\n",
              "    }\n",
              "\n",
              "    [theme=dark] .colab-df-convert:hover {\n",
              "      background-color: #434B5C;\n",
              "      box-shadow: 0px 1px 3px 1px rgba(0, 0, 0, 0.15);\n",
              "      filter: drop-shadow(0px 1px 2px rgba(0, 0, 0, 0.3));\n",
              "      fill: #FFFFFF;\n",
              "    }\n",
              "  </style>\n",
              "\n",
              "      <script>\n",
              "        const buttonEl =\n",
              "          document.querySelector('#df-25df4b46-4f94-4467-bfc7-8009bb2ab496 button.colab-df-convert');\n",
              "        buttonEl.style.display =\n",
              "          google.colab.kernel.accessAllowed ? 'block' : 'none';\n",
              "\n",
              "        async function convertToInteractive(key) {\n",
              "          const element = document.querySelector('#df-25df4b46-4f94-4467-bfc7-8009bb2ab496');\n",
              "          const dataTable =\n",
              "            await google.colab.kernel.invokeFunction('convertToInteractive',\n",
              "                                                     [key], {});\n",
              "          if (!dataTable) return;\n",
              "\n",
              "          const docLinkHtml = 'Like what you see? Visit the ' +\n",
              "            '<a target=\"_blank\" href=https://colab.research.google.com/notebooks/data_table.ipynb>data table notebook</a>'\n",
              "            + ' to learn more about interactive tables.';\n",
              "          element.innerHTML = '';\n",
              "          dataTable['output_type'] = 'display_data';\n",
              "          await google.colab.output.renderOutput(dataTable, element);\n",
              "          const docLink = document.createElement('div');\n",
              "          docLink.innerHTML = docLinkHtml;\n",
              "          element.appendChild(docLink);\n",
              "        }\n",
              "      </script>\n",
              "    </div>\n",
              "  </div>\n",
              "  "
            ]
          },
          "metadata": {},
          "execution_count": 209
        }
      ]
    },
    {
      "cell_type": "code",
      "source": [
        "hotel.loc[hotel.Babies    > 8,'Babies']    = 0\n",
        "hotel.loc[hotel.ParkSpace > 5,'ParkSpace'] = 0\n",
        "hotel.loc[hotel.Children  > 8,'Children']  = 0\n",
        "\n",
        "hotel[cat_var].describe()"
      ],
      "metadata": {
        "colab": {
          "base_uri": "https://localhost:8080/",
          "height": 364
        },
        "id": "GW1Ag_kbjOpg",
        "outputId": "1962be64-b954-4e41-b0c7-e751a0ea4c10"
      },
      "execution_count": null,
      "outputs": [
        {
          "output_type": "execute_result",
          "data": {
            "text/plain": [
              "              Adults  ChangeBooking    WeekendStay     PrevCancel  \\\n",
              "count  118759.000000  118759.000000  118759.000000  118759.000000   \n",
              "mean        1.857779       0.216076       0.924183       0.054253   \n",
              "std         0.484331       0.599504       0.967122       0.226517   \n",
              "min         0.000000       0.000000       0.000000       0.000000   \n",
              "25%         2.000000       0.000000       0.000000       0.000000   \n",
              "50%         2.000000       0.000000       1.000000       0.000000   \n",
              "75%         2.000000       0.000000       2.000000       0.000000   \n",
              "max         4.000000       5.000000       5.000000       1.000000   \n",
              "\n",
              "           ParkSpace       PrevBook  SpecialRequest       WeekStay  \\\n",
              "count  118759.000000  118759.000000   118759.000000  118759.000000   \n",
              "mean        0.061797       0.028570        0.571822       2.481808   \n",
              "std         0.242079       0.166597        0.792757       1.758755   \n",
              "min         0.000000       0.000000        0.000000       0.000000   \n",
              "25%         0.000000       0.000000        0.000000       1.000000   \n",
              "50%         0.000000       0.000000        0.000000       2.000000   \n",
              "75%         0.000000       0.000000        1.000000       3.000000   \n",
              "max         3.000000       1.000000        5.000000      10.000000   \n",
              "\n",
              "            Children    WaitingDays  total_members         Babies  \\\n",
              "count  118759.000000  118759.000000  118759.000000  118759.000000   \n",
              "mean        0.104245       0.031097       1.969821       0.007797   \n",
              "std         0.398356       0.173580       0.647356       0.089288   \n",
              "min         0.000000       0.000000       0.000000       0.000000   \n",
              "25%         0.000000       0.000000       2.000000       0.000000   \n",
              "50%         0.000000       0.000000       2.000000       0.000000   \n",
              "75%         0.000000       0.000000       2.000000       0.000000   \n",
              "max         3.000000       1.000000       5.000000       2.000000   \n",
              "\n",
              "                Kids  \n",
              "count  118759.000000  \n",
              "mean        0.112042  \n",
              "std         0.410574  \n",
              "min         0.000000  \n",
              "25%         0.000000  \n",
              "50%         0.000000  \n",
              "75%         0.000000  \n",
              "max         3.000000  "
            ],
            "text/html": [
              "\n",
              "  <div id=\"df-5f1df98d-0546-4ea5-bd29-5d40139d6b52\">\n",
              "    <div class=\"colab-df-container\">\n",
              "      <div>\n",
              "<style scoped>\n",
              "    .dataframe tbody tr th:only-of-type {\n",
              "        vertical-align: middle;\n",
              "    }\n",
              "\n",
              "    .dataframe tbody tr th {\n",
              "        vertical-align: top;\n",
              "    }\n",
              "\n",
              "    .dataframe thead th {\n",
              "        text-align: right;\n",
              "    }\n",
              "</style>\n",
              "<table border=\"1\" class=\"dataframe\">\n",
              "  <thead>\n",
              "    <tr style=\"text-align: right;\">\n",
              "      <th></th>\n",
              "      <th>Adults</th>\n",
              "      <th>ChangeBooking</th>\n",
              "      <th>WeekendStay</th>\n",
              "      <th>PrevCancel</th>\n",
              "      <th>ParkSpace</th>\n",
              "      <th>PrevBook</th>\n",
              "      <th>SpecialRequest</th>\n",
              "      <th>WeekStay</th>\n",
              "      <th>Children</th>\n",
              "      <th>WaitingDays</th>\n",
              "      <th>total_members</th>\n",
              "      <th>Babies</th>\n",
              "      <th>Kids</th>\n",
              "    </tr>\n",
              "  </thead>\n",
              "  <tbody>\n",
              "    <tr>\n",
              "      <th>count</th>\n",
              "      <td>118759.000000</td>\n",
              "      <td>118759.000000</td>\n",
              "      <td>118759.000000</td>\n",
              "      <td>118759.000000</td>\n",
              "      <td>118759.000000</td>\n",
              "      <td>118759.000000</td>\n",
              "      <td>118759.000000</td>\n",
              "      <td>118759.000000</td>\n",
              "      <td>118759.000000</td>\n",
              "      <td>118759.000000</td>\n",
              "      <td>118759.000000</td>\n",
              "      <td>118759.000000</td>\n",
              "      <td>118759.000000</td>\n",
              "    </tr>\n",
              "    <tr>\n",
              "      <th>mean</th>\n",
              "      <td>1.857779</td>\n",
              "      <td>0.216076</td>\n",
              "      <td>0.924183</td>\n",
              "      <td>0.054253</td>\n",
              "      <td>0.061797</td>\n",
              "      <td>0.028570</td>\n",
              "      <td>0.571822</td>\n",
              "      <td>2.481808</td>\n",
              "      <td>0.104245</td>\n",
              "      <td>0.031097</td>\n",
              "      <td>1.969821</td>\n",
              "      <td>0.007797</td>\n",
              "      <td>0.112042</td>\n",
              "    </tr>\n",
              "    <tr>\n",
              "      <th>std</th>\n",
              "      <td>0.484331</td>\n",
              "      <td>0.599504</td>\n",
              "      <td>0.967122</td>\n",
              "      <td>0.226517</td>\n",
              "      <td>0.242079</td>\n",
              "      <td>0.166597</td>\n",
              "      <td>0.792757</td>\n",
              "      <td>1.758755</td>\n",
              "      <td>0.398356</td>\n",
              "      <td>0.173580</td>\n",
              "      <td>0.647356</td>\n",
              "      <td>0.089288</td>\n",
              "      <td>0.410574</td>\n",
              "    </tr>\n",
              "    <tr>\n",
              "      <th>min</th>\n",
              "      <td>0.000000</td>\n",
              "      <td>0.000000</td>\n",
              "      <td>0.000000</td>\n",
              "      <td>0.000000</td>\n",
              "      <td>0.000000</td>\n",
              "      <td>0.000000</td>\n",
              "      <td>0.000000</td>\n",
              "      <td>0.000000</td>\n",
              "      <td>0.000000</td>\n",
              "      <td>0.000000</td>\n",
              "      <td>0.000000</td>\n",
              "      <td>0.000000</td>\n",
              "      <td>0.000000</td>\n",
              "    </tr>\n",
              "    <tr>\n",
              "      <th>25%</th>\n",
              "      <td>2.000000</td>\n",
              "      <td>0.000000</td>\n",
              "      <td>0.000000</td>\n",
              "      <td>0.000000</td>\n",
              "      <td>0.000000</td>\n",
              "      <td>0.000000</td>\n",
              "      <td>0.000000</td>\n",
              "      <td>1.000000</td>\n",
              "      <td>0.000000</td>\n",
              "      <td>0.000000</td>\n",
              "      <td>2.000000</td>\n",
              "      <td>0.000000</td>\n",
              "      <td>0.000000</td>\n",
              "    </tr>\n",
              "    <tr>\n",
              "      <th>50%</th>\n",
              "      <td>2.000000</td>\n",
              "      <td>0.000000</td>\n",
              "      <td>1.000000</td>\n",
              "      <td>0.000000</td>\n",
              "      <td>0.000000</td>\n",
              "      <td>0.000000</td>\n",
              "      <td>0.000000</td>\n",
              "      <td>2.000000</td>\n",
              "      <td>0.000000</td>\n",
              "      <td>0.000000</td>\n",
              "      <td>2.000000</td>\n",
              "      <td>0.000000</td>\n",
              "      <td>0.000000</td>\n",
              "    </tr>\n",
              "    <tr>\n",
              "      <th>75%</th>\n",
              "      <td>2.000000</td>\n",
              "      <td>0.000000</td>\n",
              "      <td>2.000000</td>\n",
              "      <td>0.000000</td>\n",
              "      <td>0.000000</td>\n",
              "      <td>0.000000</td>\n",
              "      <td>1.000000</td>\n",
              "      <td>3.000000</td>\n",
              "      <td>0.000000</td>\n",
              "      <td>0.000000</td>\n",
              "      <td>2.000000</td>\n",
              "      <td>0.000000</td>\n",
              "      <td>0.000000</td>\n",
              "    </tr>\n",
              "    <tr>\n",
              "      <th>max</th>\n",
              "      <td>4.000000</td>\n",
              "      <td>5.000000</td>\n",
              "      <td>5.000000</td>\n",
              "      <td>1.000000</td>\n",
              "      <td>3.000000</td>\n",
              "      <td>1.000000</td>\n",
              "      <td>5.000000</td>\n",
              "      <td>10.000000</td>\n",
              "      <td>3.000000</td>\n",
              "      <td>1.000000</td>\n",
              "      <td>5.000000</td>\n",
              "      <td>2.000000</td>\n",
              "      <td>3.000000</td>\n",
              "    </tr>\n",
              "  </tbody>\n",
              "</table>\n",
              "</div>\n",
              "      <button class=\"colab-df-convert\" onclick=\"convertToInteractive('df-5f1df98d-0546-4ea5-bd29-5d40139d6b52')\"\n",
              "              title=\"Convert this dataframe to an interactive table.\"\n",
              "              style=\"display:none;\">\n",
              "        \n",
              "  <svg xmlns=\"http://www.w3.org/2000/svg\" height=\"24px\"viewBox=\"0 0 24 24\"\n",
              "       width=\"24px\">\n",
              "    <path d=\"M0 0h24v24H0V0z\" fill=\"none\"/>\n",
              "    <path d=\"M18.56 5.44l.94 2.06.94-2.06 2.06-.94-2.06-.94-.94-2.06-.94 2.06-2.06.94zm-11 1L8.5 8.5l.94-2.06 2.06-.94-2.06-.94L8.5 2.5l-.94 2.06-2.06.94zm10 10l.94 2.06.94-2.06 2.06-.94-2.06-.94-.94-2.06-.94 2.06-2.06.94z\"/><path d=\"M17.41 7.96l-1.37-1.37c-.4-.4-.92-.59-1.43-.59-.52 0-1.04.2-1.43.59L10.3 9.45l-7.72 7.72c-.78.78-.78 2.05 0 2.83L4 21.41c.39.39.9.59 1.41.59.51 0 1.02-.2 1.41-.59l7.78-7.78 2.81-2.81c.8-.78.8-2.07 0-2.86zM5.41 20L4 18.59l7.72-7.72 1.47 1.35L5.41 20z\"/>\n",
              "  </svg>\n",
              "      </button>\n",
              "      \n",
              "  <style>\n",
              "    .colab-df-container {\n",
              "      display:flex;\n",
              "      flex-wrap:wrap;\n",
              "      gap: 12px;\n",
              "    }\n",
              "\n",
              "    .colab-df-convert {\n",
              "      background-color: #E8F0FE;\n",
              "      border: none;\n",
              "      border-radius: 50%;\n",
              "      cursor: pointer;\n",
              "      display: none;\n",
              "      fill: #1967D2;\n",
              "      height: 32px;\n",
              "      padding: 0 0 0 0;\n",
              "      width: 32px;\n",
              "    }\n",
              "\n",
              "    .colab-df-convert:hover {\n",
              "      background-color: #E2EBFA;\n",
              "      box-shadow: 0px 1px 2px rgba(60, 64, 67, 0.3), 0px 1px 3px 1px rgba(60, 64, 67, 0.15);\n",
              "      fill: #174EA6;\n",
              "    }\n",
              "\n",
              "    [theme=dark] .colab-df-convert {\n",
              "      background-color: #3B4455;\n",
              "      fill: #D2E3FC;\n",
              "    }\n",
              "\n",
              "    [theme=dark] .colab-df-convert:hover {\n",
              "      background-color: #434B5C;\n",
              "      box-shadow: 0px 1px 3px 1px rgba(0, 0, 0, 0.15);\n",
              "      filter: drop-shadow(0px 1px 2px rgba(0, 0, 0, 0.3));\n",
              "      fill: #FFFFFF;\n",
              "    }\n",
              "  </style>\n",
              "\n",
              "      <script>\n",
              "        const buttonEl =\n",
              "          document.querySelector('#df-5f1df98d-0546-4ea5-bd29-5d40139d6b52 button.colab-df-convert');\n",
              "        buttonEl.style.display =\n",
              "          google.colab.kernel.accessAllowed ? 'block' : 'none';\n",
              "\n",
              "        async function convertToInteractive(key) {\n",
              "          const element = document.querySelector('#df-5f1df98d-0546-4ea5-bd29-5d40139d6b52');\n",
              "          const dataTable =\n",
              "            await google.colab.kernel.invokeFunction('convertToInteractive',\n",
              "                                                     [key], {});\n",
              "          if (!dataTable) return;\n",
              "\n",
              "          const docLinkHtml = 'Like what you see? Visit the ' +\n",
              "            '<a target=\"_blank\" href=https://colab.research.google.com/notebooks/data_table.ipynb>data table notebook</a>'\n",
              "            + ' to learn more about interactive tables.';\n",
              "          element.innerHTML = '';\n",
              "          dataTable['output_type'] = 'display_data';\n",
              "          await google.colab.output.renderOutput(dataTable, element);\n",
              "          const docLink = document.createElement('div');\n",
              "          docLink.innerHTML = docLinkHtml;\n",
              "          element.appendChild(docLink);\n",
              "        }\n",
              "      </script>\n",
              "    </div>\n",
              "  </div>\n",
              "  "
            ]
          },
          "metadata": {},
          "execution_count": 210
        }
      ]
    },
    {
      "cell_type": "markdown",
      "source": [
        "### <font color=green>Now we have treated the outliers</font>"
      ],
      "metadata": {
        "id": "3DzCZCyQjSNA"
      }
    },
    {
      "cell_type": "markdown",
      "source": [
        "* # <font color=blue> Data Preparation</font>"
      ],
      "metadata": {
        "id": "Vyt1GlJsjXug"
      }
    },
    {
      "cell_type": "code",
      "source": [
        "#Lets combine children and babies together as kids\n",
        "hotel['Kids'] = hotel.Children + hotel.Babies\n",
        "\n",
        "#Combine total mumbers by adding kids and adults\n",
        "hotel['total_members'] = hotel.Kids + hotel.Adults"
      ],
      "metadata": {
        "id": "Sz1mu8yfjZ3m"
      },
      "execution_count": null,
      "outputs": []
    },
    {
      "cell_type": "code",
      "source": [
        "#convert the datatypes to string\n",
        "hotel['ArrivingYear'] = hotel['ArrivingYear'].astype('str')\n",
        "hotel['ArrivingMonth'] = hotel['ArrivingMonth'].astype('str')\n",
        "hotel['ArrivingDate'] = hotel['ArrivingDate'].astype('str')\n",
        "\n",
        "hotel['Canceled'] = hotel['Canceled'].astype('str')\n",
        "hotel['RepeatGuest'] = hotel['RepeatGuest'].astype('str')\n"
      ],
      "metadata": {
        "id": "JtRDYrcnjcrA"
      },
      "execution_count": null,
      "outputs": []
    },
    {
      "cell_type": "code",
      "source": [
        "# Lets convert arrival date to datetime\n",
        "hotel['Arrival Date'] = hotel['ArrivingDate'] + '-' + hotel['ArrivingMonth'] + '-' + hotel['ArrivingYear']\n",
        "hotel['Arrival Date'] = pd.to_datetime(hotel['Arrival Date'], errors='coerce')"
      ],
      "metadata": {
        "id": "9lrX4Gx_jrsJ"
      },
      "execution_count": null,
      "outputs": []
    },
    {
      "cell_type": "code",
      "source": [
        "confirmed_bookings = hotel[hotel.Canceled=='0']"
      ],
      "metadata": {
        "id": "hWOTzKyZjthY"
      },
      "execution_count": null,
      "outputs": []
    },
    {
      "cell_type": "code",
      "source": [
        "import datetime as dt\n",
        "confirmed_bookings['ArrivingMonth'] = hotel['Arrival Date'].dt.month\n",
        "final=confirmed_bookings['ArrivingMonth'].value_counts().sort_index()\n",
        "final"
      ],
      "metadata": {
        "colab": {
          "base_uri": "https://localhost:8080/"
        },
        "id": "BG3qiOTujvLY",
        "outputId": "b7bb215d-8086-4edf-d264-82e0e538d28b"
      },
      "execution_count": null,
      "outputs": [
        {
          "output_type": "execute_result",
          "data": {
            "text/plain": [
              "1     4062\n",
              "2     5306\n",
              "3     6570\n",
              "4     6529\n",
              "5     7094\n",
              "6     6386\n",
              "7     7883\n",
              "8     8608\n",
              "9     6362\n",
              "10    6854\n",
              "11    4617\n",
              "12    4350\n",
              "Name: ArrivingMonth, dtype: int64"
            ]
          },
          "metadata": {},
          "execution_count": 215
        }
      ]
    },
    {
      "cell_type": "markdown",
      "source": [
        "# <font color=blue>3. EDA</font>"
      ],
      "metadata": {
        "id": "rE-0QxL5jxmR"
      }
    },
    {
      "cell_type": "markdown",
      "source": [
        "* ## <font color=Red>Cancelations</font>"
      ],
      "metadata": {
        "id": "MeasE6Agjzu3"
      }
    },
    {
      "cell_type": "code",
      "source": [
        "print('Total Bookings canceled')\n",
        "print('-'*50)\n",
        "print(hotel.Canceled.value_counts())\n",
        "print('-'*50)\n",
        "print('*'*75)\n",
        "print('Cancelation percentage in both hotels ')\n",
        "print('-'*50)\n",
        "print(hotel.Canceled.value_counts(normalize=True))\n"
      ],
      "metadata": {
        "colab": {
          "base_uri": "https://localhost:8080/"
        },
        "id": "lQ-2YWGZj11I",
        "outputId": "ee4ddd79-6550-4583-996c-00ce91a4bc66"
      },
      "execution_count": null,
      "outputs": [
        {
          "output_type": "stream",
          "name": "stdout",
          "text": [
            "Total Bookings canceled\n",
            "--------------------------------------------------\n",
            "0    74621\n",
            "1    44138\n",
            "Name: Canceled, dtype: int64\n",
            "--------------------------------------------------\n",
            "***************************************************************************\n",
            "Cancelation percentage in both hotels \n",
            "--------------------------------------------------\n",
            "0    0.62834\n",
            "1    0.37166\n",
            "Name: Canceled, dtype: float64\n"
          ]
        }
      ]
    },
    {
      "cell_type": "markdown",
      "source": [
        "### <font color=purple>44153 bookings were canceled which is around 37%</font>"
      ],
      "metadata": {
        "id": "sVDPcLk5j5hq"
      }
    },
    {
      "cell_type": "markdown",
      "source": [
        "* ## <font color=red>Country"
      ],
      "metadata": {
        "id": "yLRMbc38j7jg"
      }
    },
    {
      "cell_type": "code",
      "source": [
        "hotel.Country.value_counts(normalize=True)"
      ],
      "metadata": {
        "colab": {
          "base_uri": "https://localhost:8080/"
        },
        "id": "XhnC9JSsj-FY",
        "outputId": "7e3e80ff-6064-48df-83e8-6a2f9a3356bb"
      },
      "execution_count": null,
      "outputs": [
        {
          "output_type": "execute_result",
          "data": {
            "text/plain": [
              "PRT    0.408323\n",
              "GBR    0.102081\n",
              "FRA    0.087589\n",
              "ESP    0.072087\n",
              "DEU    0.061343\n",
              "         ...   \n",
              "DJI    0.000008\n",
              "BWA    0.000008\n",
              "HND    0.000008\n",
              "VGB    0.000008\n",
              "NAM    0.000008\n",
              "Name: Country, Length: 177, dtype: float64"
            ]
          },
          "metadata": {},
          "execution_count": 217
        }
      ]
    },
    {
      "cell_type": "markdown",
      "source": [
        "### <font color=purple>Around 40% of all bookings were booked from Portugal followed by Great Britain(10%) & France(8%)."
      ],
      "metadata": {
        "id": "JqY4nNQNkA5w"
      }
    },
    {
      "cell_type": "markdown",
      "source": [
        "* > # <font color=red>Month"
      ],
      "metadata": {
        "id": "9RBJ-CRDkEa-"
      }
    },
    {
      "cell_type": "code",
      "source": [
        "hotel.ArrivingMonth.value_counts(normalize=True)"
      ],
      "metadata": {
        "colab": {
          "base_uri": "https://localhost:8080/"
        },
        "id": "vmbKHTYykGwo",
        "outputId": "0bf67e85-e999-4bcd-ca5d-669b836f5bb1"
      },
      "execution_count": null,
      "outputs": [
        {
          "output_type": "execute_result",
          "data": {
            "text/plain": [
              "August       0.116539\n",
              "July         0.106215\n",
              "May          0.099117\n",
              "October      0.093315\n",
              "April        0.092953\n",
              "June         0.091943\n",
              "September    0.088086\n",
              "March        0.081821\n",
              "February     0.067355\n",
              "November     0.056728\n",
              "December     0.056526\n",
              "January      0.049403\n",
              "Name: ArrivingMonth, dtype: float64"
            ]
          },
          "metadata": {},
          "execution_count": 218
        }
      ]
    },
    {
      "cell_type": "markdown",
      "source": [
        "### <font color=purple>August is the most occupied (busiest) month with 11.62% bookings and January is the most unoccupied month with 4.96% bookings."
      ],
      "metadata": {
        "id": "uz9wVkPdkIx_"
      }
    },
    {
      "cell_type": "markdown",
      "source": [
        "* ## <font color=red>Market Segment"
      ],
      "metadata": {
        "id": "U6QwbeWtkLDY"
      }
    },
    {
      "cell_type": "code",
      "source": [
        "hotel.Segment.value_counts(normalize=True)"
      ],
      "metadata": {
        "colab": {
          "base_uri": "https://localhost:8080/"
        },
        "id": "A8PrqLotkNTJ",
        "outputId": "ca61f167-3631-401c-b3e5-eeec9c89b150"
      },
      "execution_count": null,
      "outputs": [
        {
          "output_type": "execute_result",
          "data": {
            "text/plain": [
              "Online TA        0.474524\n",
              "Offline TA/TO    0.203159\n",
              "Groups           0.166615\n",
              "Direct           0.104657\n",
              "Corporate        0.042953\n",
              "Complementary    0.006113\n",
              "Aviation         0.001979\n",
              "Name: Segment, dtype: float64"
            ]
          },
          "metadata": {},
          "execution_count": 219
        }
      ]
    },
    {
      "cell_type": "markdown",
      "source": [
        "### <font color=purple>Around 47% of bookings are made via Online Travel Agents, almost 20% of bookings are made via Offline Travel Agents and less than 20% are Direct bookings without any other agents."
      ],
      "metadata": {
        "id": "5CLXet0mkPlK"
      }
    },
    {
      "cell_type": "code",
      "source": [],
      "metadata": {
        "id": "yQWgOb3rkR8Q"
      },
      "execution_count": null,
      "outputs": []
    },
    {
      "cell_type": "markdown",
      "source": [
        "* ## <font color=red>Year"
      ],
      "metadata": {
        "id": "FrIncaHDkSMx"
      }
    },
    {
      "cell_type": "code",
      "source": [
        "hotel.ArrivingYear.value_counts(normalize=True)"
      ],
      "metadata": {
        "colab": {
          "base_uri": "https://localhost:8080/"
        },
        "id": "JaiQbnrekT-I",
        "outputId": "bd9cf849-8a36-4832-bc98-623d1ee78b01"
      },
      "execution_count": null,
      "outputs": [
        {
          "output_type": "execute_result",
          "data": {
            "text/plain": [
              "2016    0.474718\n",
              "2017    0.341456\n",
              "2015    0.183826\n",
              "Name: ArrivingYear, dtype: float64"
            ]
          },
          "metadata": {},
          "execution_count": 220
        }
      ]
    },
    {
      "cell_type": "markdown",
      "source": [
        "### <font color=purple>47% bookings were done in 2016, 34% in 2017 and  18 percent in 2015.. We can see increasing tendency in bookings year wise"
      ],
      "metadata": {
        "id": "5p4zEbYIkV2Z"
      }
    },
    {
      "cell_type": "markdown",
      "source": [
        "## <font color=red>Meal"
      ],
      "metadata": {
        "id": "_dQjB--CkY0Y"
      }
    },
    {
      "cell_type": "markdown",
      "source": [],
      "metadata": {
        "id": "TJ0cIfiNkawa"
      }
    },
    {
      "cell_type": "code",
      "source": [
        "hotel.Meal.value_counts(normalize=True)"
      ],
      "metadata": {
        "colab": {
          "base_uri": "https://localhost:8080/"
        },
        "id": "I08FH3sAkbAh",
        "outputId": "3ac880ef-6abe-4972-e204-75e42e2585f5"
      },
      "execution_count": null,
      "outputs": [
        {
          "output_type": "execute_result",
          "data": {
            "text/plain": [
              "BB           0.772960\n",
              "HB           0.121498\n",
              "SC           0.089012\n",
              "Undefined    0.009810\n",
              "FB           0.006719\n",
              "Name: Meal, dtype: float64"
            ]
          },
          "metadata": {},
          "execution_count": 221
        }
      ]
    },
    {
      "cell_type": "markdown",
      "source": [
        "### <font color=purple>Out of the meals, BB (Bed & Breakfast) is the most ordered meal which is around 77.2%, followed by HB(Half Board), SC(no meal package), Undefined and FB (Full Board)."
      ],
      "metadata": {
        "id": "Z7KXqJUJkdAw"
      }
    },
    {
      "cell_type": "markdown",
      "source": [
        "## <font color=red>Customer Type"
      ],
      "metadata": {
        "id": "uKKBHnyekgPw"
      }
    },
    {
      "cell_type": "code",
      "source": [
        "hotel.CustomerType.value_counts(normalize=True)"
      ],
      "metadata": {
        "colab": {
          "base_uri": "https://localhost:8080/"
        },
        "id": "ALOWp1gVkis5",
        "outputId": "8cb40721-e283-42e4-ca5e-f415ed5cb9a9"
      },
      "execution_count": null,
      "outputs": [
        {
          "output_type": "execute_result",
          "data": {
            "text/plain": [
              "Transient          0.750032\n",
              "Transient-Party    0.210889\n",
              "Contract           0.034288\n",
              "Group              0.004791\n",
              "Name: CustomerType, dtype: float64"
            ]
          },
          "metadata": {},
          "execution_count": 222
        }
      ]
    },
    {
      "cell_type": "markdown",
      "source": [
        "### <font color=purple>Transient type of customers are the more around 75%"
      ],
      "metadata": {
        "id": "5k2Y7e14klVh"
      }
    },
    {
      "cell_type": "code",
      "source": [
        "hotel.Reservation.value_counts(normalize=True)"
      ],
      "metadata": {
        "colab": {
          "base_uri": "https://localhost:8080/"
        },
        "id": "CKj1kuBHknkA",
        "outputId": "f975dc97-6ed6-45b6-b0e2-5e3ac7fa6861"
      },
      "execution_count": null,
      "outputs": [
        {
          "output_type": "execute_result",
          "data": {
            "text/plain": [
              "Check-Out    0.628340\n",
              "Canceled     0.361539\n",
              "No-Show      0.010121\n",
              "Name: Reservation, dtype: float64"
            ]
          },
          "metadata": {},
          "execution_count": 223
        }
      ]
    },
    {
      "cell_type": "markdown",
      "source": [
        "### <font color=purple>We can see 63% visitors checked out and 36% bookings were canceled"
      ],
      "metadata": {
        "id": "-M6Cq73fkqSp"
      }
    },
    {
      "cell_type": "markdown",
      "source": [
        "# <font color=blue>4. Data Visualization</font>"
      ],
      "metadata": {
        "id": "AMLKOPYKksOg"
      }
    },
    {
      "cell_type": "code",
      "source": [
        "plt.figure(figsize=(15,10))\n",
        "sns.barplot(x='ArrivingYear', y='LeadTime',hue='Canceled', data= hotel, palette='vlag')\n",
        "plt.title('Arriving year, Leadtime and Cancelations')"
      ],
      "metadata": {
        "colab": {
          "base_uri": "https://localhost:8080/",
          "height": 638
        },
        "id": "Z-8Z6SI5kwH_",
        "outputId": "970ea9cf-216a-43c8-eee5-2112399436a0"
      },
      "execution_count": null,
      "outputs": [
        {
          "output_type": "execute_result",
          "data": {
            "text/plain": [
              "Text(0.5, 1.0, 'Arriving year, Leadtime and Cancelations')"
            ]
          },
          "metadata": {},
          "execution_count": 224
        },
        {
          "output_type": "display_data",
          "data": {
            "text/plain": [
              "<Figure size 1080x720 with 1 Axes>"
            ],
            "image/png": "[encoded data removed]"
          },
          "metadata": {
            "needs_background": "light"
          }
        }
      ]
    },
    {
      "cell_type": "code",
      "source": [
        "#Lets see the correlation\n",
        "plt.figure(figsize=(12,8))\n",
        "sns.heatmap(hotel.corr(),annot=True,cmap='RdYlGn')"
      ],
      "metadata": {
        "colab": {
          "base_uri": "https://localhost:8080/",
          "height": 572
        },
        "id": "z2NczH2nk1y5",
        "outputId": "38dd24ca-fd2f-451e-8874-ec2fe9745263"
      },
      "execution_count": null,
      "outputs": [
        {
          "output_type": "execute_result",
          "data": {
            "text/plain": [
              "<matplotlib.axes._subplots.AxesSubplot at 0x7f2b3fbb4ee0>"
            ]
          },
          "metadata": {},
          "execution_count": 225
        },
        {
          "output_type": "display_data",
          "data": {
            "text/plain": [
              "<Figure size 864x576 with 2 Axes>"
            ],
            "image/png": "[encoded data removed]"
          },
          "metadata": {
            "needs_background": "light"
          }
        }
      ]
    },
    {
      "cell_type": "code",
      "source": [
        "#Canceled=1, Not canceled= 0\n",
        "canceled_data = hotel['Canceled']\n",
        "sns.countplot(canceled_data, palette='husl')\n",
        "\n",
        "plt.show()"
      ],
      "metadata": {
        "colab": {
          "base_uri": "https://localhost:8080/",
          "height": 368
        },
        "id": "4PuZ3sTPk3bQ",
        "outputId": "25022718-8a3c-4345-9d36-cd9c8f324307"
      },
      "execution_count": null,
      "outputs": [
        {
          "output_type": "stream",
          "name": "stderr",
          "text": [
            "/usr/local/lib/python3.8/dist-packages/seaborn/_decorators.py:36: FutureWarning:\n",
            "\n",
            "Pass the following variable as a keyword arg: x. From version 0.12, the only valid positional argument will be `data`, and passing other arguments without an explicit keyword will result in an error or misinterpretation.\n",
            "\n"
          ]
        },
        {
          "output_type": "display_data",
          "data": {
            "text/plain": [
              "<Figure size 432x288 with 1 Axes>"
            ],
            "image/png": "[encoded data removed]"
          },
          "metadata": {
            "needs_background": "light"
          }
        }
      ]
    },
    {
      "cell_type": "markdown",
      "source": [
        "### <font color=green>Majority of bookings were not canceled, still some half of the bookings were canceled</font>"
      ],
      "metadata": {
        "id": "lXrg1BSKk7Vh"
      }
    },
    {
      "cell_type": "code",
      "source": [
        "cols = ['gold', 'lightcoral']\n",
        "hotel['Canceled'].value_counts().plot.pie(autopct='%1.1f%%',shadow=True, colors=cols)"
      ],
      "metadata": {
        "colab": {
          "base_uri": "https://localhost:8080/",
          "height": 265
        },
        "id": "OdbktljAk90B",
        "outputId": "6122ea3d-0101-4273-b16a-91397a72f277"
      },
      "execution_count": null,
      "outputs": [
        {
          "output_type": "execute_result",
          "data": {
            "text/plain": [
              "<matplotlib.axes._subplots.AxesSubplot at 0x7f2b400cd100>"
            ]
          },
          "metadata": {},
          "execution_count": 227
        },
        {
          "output_type": "display_data",
          "data": {
            "text/plain": [
              "<Figure size 432x288 with 1 Axes>"
            ],
            "image/png": "[encoded data removed]"
          },
          "metadata": {}
        }
      ]
    },
    {
      "cell_type": "markdown",
      "source": [
        "### According to the pie chart, 63% of bookings were not canceled and 37% of the bookings were canceled at the Hotel."
      ],
      "metadata": {
        "id": "Rj7Iu5qslABC"
      }
    },
    {
      "cell_type": "code",
      "source": [
        "plt.figure(figsize=(12, 6))\n",
        "\n",
        "sns.countplot(x='Hotel',hue=\"Canceled\", data=hotel,palette='Pastel1')\n",
        "plt.title(\"Cancelation rates in City hotel and Resort hotel\",fontweight=\"bold\", size=20)\n",
        "plt.show()"
      ],
      "metadata": {
        "colab": {
          "base_uri": "https://localhost:8080/",
          "height": 409
        },
        "id": "Co_2LEdFlCHO",
        "outputId": "1b894567-0b90-4cfc-ca7a-a0f2a1a197e3"
      },
      "execution_count": null,
      "outputs": [
        {
          "output_type": "display_data",
          "data": {
            "text/plain": [
              "<Figure size 864x432 with 1 Axes>"
            ],
            "image/png": "[encoded data removed]"
          },
          "metadata": {
            "needs_background": "light"
          }
        }
      ]
    },
    {
      "cell_type": "markdown",
      "source": [
        "* ### <font color=green>Most bookings were in city hotel</font>\n",
        "* ### <font color=green>Cancelations in Resort hotel is less compared to city hotel</font>"
      ],
      "metadata": {
        "id": "o4ZyGA7SlFSX"
      }
    },
    {
      "cell_type": "markdown",
      "source": [
        "* ### <font color=blue>Arrivals in month and year"
      ],
      "metadata": {
        "id": "xslF1e7jlHRQ"
      }
    },
    {
      "cell_type": "code",
      "source": [
        "plt.figure(figsize=(15, 8))\n",
        "plt.subplot(1, 2, 1)\n",
        "sns.countplot(x='ArrivingYear',hue='Hotel', data=hotel,palette='husl')\n",
        "plt.title(\"Arrivals per year in Both hotels \",fontweight=\"bold\", size=20)\n",
        "plt.subplot(1, 2, 2)\n",
        "sns.countplot(data = hotel, x = 'ArrivingMonth')\n",
        "plt.title('Arrivals per month',fontweight=\"bold\", size=20)\n",
        "plt.subplots_adjust(right=1.7)\n",
        "\n",
        "plt.show()"
      ],
      "metadata": {
        "colab": {
          "base_uri": "https://localhost:8080/",
          "height": 370
        },
        "id": "VuOUXpQSlI_A",
        "outputId": "233df9b6-d3ad-4e4b-a574-9a2888b716da"
      },
      "execution_count": null,
      "outputs": [
        {
          "output_type": "display_data",
          "data": {
            "text/plain": [
              "<Figure size 1080x576 with 2 Axes>"
            ],
            "image/png": "[encoded data removed]"
          },
          "metadata": {
            "needs_background": "light"
          }
        }
      ]
    },
    {
      "cell_type": "markdown",
      "source": [
        "* ### <font color=green>We can see most of the bookings were in the year 2016 and bookings were doine in City hotel</font>\n",
        "* ### <font color=green>Most bookings were done in the month of May,June, July, August</font>"
      ],
      "metadata": {
        "id": "Ywen0E9hlLMQ"
      }
    },
    {
      "cell_type": "markdown",
      "source": [
        "* ### <font color=blue>Arrivarl Date"
      ],
      "metadata": {
        "id": "S2g9td8plNUz"
      }
    },
    {
      "cell_type": "code",
      "source": [
        "plt.figure(figsize=(15,6))\n",
        "\n",
        "sns.countplot(data = hotel, x = 'ArrivingDate', hue='Hotel', palette='Paired')\n",
        "plt.show()"
      ],
      "metadata": {
        "colab": {
          "base_uri": "https://localhost:8080/",
          "height": 388
        },
        "id": "YvX-H_rxlYNd",
        "outputId": "51ed8864-d7e9-452f-fb4c-54f633b4be30"
      },
      "execution_count": null,
      "outputs": [
        {
          "output_type": "display_data",
          "data": {
            "text/plain": [
              "<Figure size 1080x432 with 1 Axes>"
            ],
            "image/png": "[encoded data removed]"
          },
          "metadata": {
            "needs_background": "light"
          }
        }
      ]
    },
    {
      "cell_type": "markdown",
      "source": [
        "* ### <font color=green>Month end day has very less arrivals</font>\n",
        "* ### <font color=green>Bookings are more in City hotel</font>"
      ],
      "metadata": {
        "id": "Hc8C5Qb2latR"
      }
    },
    {
      "cell_type": "markdown",
      "source": [
        "* ### <font color=blue>Weekend Stay"
      ],
      "metadata": {
        "id": "Bncs6Pa6lc8K"
      }
    },
    {
      "cell_type": "code",
      "source": [
        "plt.figure(figsize=(15, 8))\n",
        "plt.subplot(1, 2, 1)\n",
        "sns.countplot(x='WeekendStay',hue='Hotel', data=hotel, palette='cool')\n",
        "plt.title(\"Number of stays on weekend nights\",fontweight=\"bold\", size=20)\n",
        "plt.subplot(1, 2, 2)\n",
        "sns.countplot(data = hotel, x = 'WeekendStay', hue='Canceled', palette='rocket')\n",
        "plt.title('WeekendStay vs Cancelation',fontweight=\"bold\", size=20)\n",
        "plt.subplots_adjust(right=1.7)\n",
        "\n",
        "plt.show()"
      ],
      "metadata": {
        "colab": {
          "base_uri": "https://localhost:8080/",
          "height": 370
        },
        "id": "akw6LOgXleiL",
        "outputId": "0c188a60-858c-46da-cb3b-0dce3e2f82ee"
      },
      "execution_count": null,
      "outputs": [
        {
          "output_type": "display_data",
          "data": {
            "text/plain": [
              "<Figure size 1080x576 with 2 Axes>"
            ],
            "image/png": "[encoded data removed]"
          },
          "metadata": {
            "needs_background": "light"
          }
        }
      ]
    },
    {
      "cell_type": "markdown",
      "source": [
        "* ### <font color=green>In the first graph we can see that most of the weekend nights were booked in City Hotel</font>\n",
        "* ### <font color=green>Second plot shows most of weekend nights which were booked were not canceled</font>"
      ],
      "metadata": {
        "id": "NEBlKu0yliD3"
      }
    },
    {
      "cell_type": "markdown",
      "source": [
        "* ### <font color=blue>WeekStay"
      ],
      "metadata": {
        "id": "rMLJysG7lk7P"
      }
    },
    {
      "cell_type": "markdown",
      "source": [],
      "metadata": {
        "id": "BKmOozqtlmYI"
      }
    },
    {
      "cell_type": "code",
      "source": [
        "plt.figure(figsize=(15, 8))\n",
        "plt.subplot(1, 2, 1)\n",
        "sns.countplot(x='WeekStay',hue='Hotel', data=hotel, palette='rainbow_r')\n",
        "plt.title(\"Number of stays on weekday nights\",fontweight=\"bold\", size=20)\n",
        "plt.subplot(1, 2, 2)\n",
        "sns.countplot(data = hotel, x = 'WeekStay', hue='Canceled', palette='magma_r')\n",
        "plt.title('WeekStay vs Cancelations',fontweight=\"bold\", size=20)\n",
        "plt.subplots_adjust(right=1.7)\n",
        "\n",
        "\n",
        "plt.show()"
      ],
      "metadata": {
        "colab": {
          "base_uri": "https://localhost:8080/",
          "height": 370
        },
        "id": "qe2TfOu5lmnA",
        "outputId": "ef00621c-e255-4c6c-de71-789be135dfa8"
      },
      "execution_count": null,
      "outputs": [
        {
          "output_type": "display_data",
          "data": {
            "text/plain": [
              "<Figure size 1080x576 with 2 Axes>"
            ],
            "image/png": "[encoded data removed]"
          },
          "metadata": {
            "needs_background": "light"
          }
        }
      ]
    },
    {
      "cell_type": "markdown",
      "source": [
        "* ### <font color=green>Weekday night stays were more in City Hotel</font>\n",
        "* ### <font color=green>Less cancelations were observed</font>"
      ],
      "metadata": {
        "id": "rjRfr3ETloZe"
      }
    },
    {
      "cell_type": "markdown",
      "source": [
        "* ### <font color=blue>Adults"
      ],
      "metadata": {
        "id": "JVe03A5Zlqkh"
      }
    },
    {
      "cell_type": "code",
      "source": [
        "plt.figure(figsize=(15, 8))\n",
        "plt.subplot(1, 2, 1)\n",
        "sns.countplot(x='Adults',hue='Hotel', data=hotel, palette='pastel')\n",
        "plt.title(\"Number of adults in both hotels\",fontweight=\"bold\", size=20)\n",
        "plt.subplot(1, 2, 2)\n",
        "sns.countplot(data = hotel, x = 'Adults', hue='Canceled', palette='husl')\n",
        "plt.title('Adults vs Cancelations',fontweight=\"bold\", size=20)\n",
        "plt.subplots_adjust(right=1.7)\n",
        "\n",
        "\n",
        "plt.show()"
      ],
      "metadata": {
        "colab": {
          "base_uri": "https://localhost:8080/",
          "height": 370
        },
        "id": "9w4h2mpnlsVB",
        "outputId": "4cfb7fa8-bede-456a-c9a2-8bd012f22727"
      },
      "execution_count": null,
      "outputs": [
        {
          "output_type": "display_data",
          "data": {
            "text/plain": [
              "<Figure size 1080x576 with 2 Axes>"
            ],
            "image/png": "[encoded data removed]"
          },
          "metadata": {
            "needs_background": "light"
          }
        }
      ]
    },
    {
      "cell_type": "markdown",
      "source": [
        "* ### <font color=green>Adults who were 2 in number are more and preferred city hotel rather than resort hotel, infact more than half the visitors even canceled the bookings</font>\n"
      ],
      "metadata": {
        "id": "IUwuXzhblvMf"
      }
    },
    {
      "cell_type": "markdown",
      "source": [
        "* ### <font color=blue>Children"
      ],
      "metadata": {
        "id": "Lo5U-IFklxeZ"
      }
    },
    {
      "cell_type": "code",
      "source": [
        "plt.figure(figsize=(15, 8))\n",
        "plt.subplot(1, 2, 1)\n",
        "sns.countplot(x='Children',hue='Hotel', data=hotel, palette='cool')\n",
        "plt.title(\"Number of Children in both hotels\",fontweight=\"bold\", size=20)\n",
        "plt.subplot(1, 2, 2)\n",
        "sns.countplot(data = hotel, x = 'Children', hue='Canceled', palette='Set2')\n",
        "plt.title('Children vs Cancelations',fontweight=\"bold\", size=20)\n",
        "plt.subplots_adjust(right=1.7)\n",
        "\n",
        "\n",
        "plt.show()"
      ],
      "metadata": {
        "colab": {
          "base_uri": "https://localhost:8080/",
          "height": 370
        },
        "id": "z-R3_tqnlzNn",
        "outputId": "cee13007-000e-407b-d885-3b54ad563a33"
      },
      "execution_count": null,
      "outputs": [
        {
          "output_type": "display_data",
          "data": {
            "text/plain": [
              "<Figure size 1080x576 with 2 Axes>"
            ],
            "image/png": "[encoded data removed]"
          },
          "metadata": {
            "needs_background": "light"
          }
        }
      ]
    },
    {
      "cell_type": "markdown",
      "source": [
        "* ### <font color=blue>Babies"
      ],
      "metadata": {
        "id": "1ur6v4kwl08x"
      }
    },
    {
      "cell_type": "code",
      "source": [
        "plt.figure(figsize=(15, 8))\n",
        "plt.subplot(1, 2, 1)\n",
        "sns.countplot(x='Babies',hue='Hotel', data=hotel, palette='coolwarm')\n",
        "plt.title(\"Number of Babies in both hotels\",fontweight=\"bold\", size=20)\n",
        "\n",
        "plt.subplot(1, 2, 2)\n",
        "sns.countplot(data = hotel, x = 'Babies', hue='Canceled', palette='Set1_r')\n",
        "plt.title('Babies vs Cancelations',fontweight=\"bold\", size=20)\n",
        "plt.subplots_adjust(right=1.7)\n",
        "\n",
        "\n",
        "\n",
        "plt.show()"
      ],
      "metadata": {
        "colab": {
          "base_uri": "https://localhost:8080/",
          "height": 370
        },
        "id": "G3h5gTVZl2rQ",
        "outputId": "f3f2c186-f053-4112-8f33-d77988dd4429"
      },
      "execution_count": null,
      "outputs": [
        {
          "output_type": "display_data",
          "data": {
            "text/plain": [
              "<Figure size 1080x576 with 2 Axes>"
            ],
            "image/png": "[encoded data removed]"
          },
          "metadata": {
            "needs_background": "light"
          }
        }
      ]
    },
    {
      "cell_type": "markdown",
      "source": [
        "* ### <font color=green>Most visitors were arrived in pair with no children/ Babies and preferred City hotel over resort hotel</font>\n",
        "* ### <font color=green>visitors who had 1 or 2 children also preferred city hotel</font>\n",
        "\n"
      ],
      "metadata": {
        "id": "-N_WKzZel4bY"
      }
    },
    {
      "cell_type": "markdown",
      "source": [
        "* ### <font color=blue>Country"
      ],
      "metadata": {
        "id": "nU7kDBxEl7F_"
      }
    },
    {
      "cell_type": "code",
      "source": [
        "import plotly.express as px\n",
        "import plotly.graph_objects as go\n",
        "import plotly.figure_factory as ff\n",
        "from plotly.colors import n_colors\n",
        "from plotly.subplots import make_subplots\n",
        "# Minmax scaler\n",
        "from sklearn.preprocessing import MinMaxScaler"
      ],
      "metadata": {
        "id": "LVvzVRTal-1Y"
      },
      "execution_count": null,
      "outputs": []
    },
    {
      "cell_type": "code",
      "source": [
        "country_visitors = hotel[hotel['Canceled'] == '0'].groupby(['Country']).size().reset_index(name = 'count')\n",
        "\n",
        "\n",
        "import plotly.express as px\n",
        "\n",
        "px.choropleth(country_visitors,\n",
        "                    locations = \"Country\",\n",
        "                    color= \"count\" ,\n",
        "                    hover_name= \"Country\", # column to add to hover information\n",
        "                    color_continuous_scale=\"Viridis\",\n",
        "                    title=\"Home country of visitors\")"
      ],
      "metadata": {
        "colab": {
          "base_uri": "https://localhost:8080/",
          "height": 542
        },
        "id": "x1m0d2EWmBMn",
        "outputId": "a6109588-86ea-431c-fa34-5aa8205d32c2"
      },
      "execution_count": null,
      "outputs": [
        {
          "output_type": "display_data",
          "data": {
            "text/html": [
              "<html>\n",
              "<head><meta charset=\"utf-8\" /></head>\n",
              "<body>\n",
              "    <div>            <script src=\"https://cdnjs.cloudflare.com/ajax/libs/mathjax/2.7.5/MathJax.js?config=TeX-AMS-MML_SVG\"></script><script type=\"text/javascript\">if (window.MathJax) {MathJax.Hub.Config({SVG: {font: \"STIX-Web\"}});}</script>                <script type=\"text/javascript\">window.PlotlyConfig = {MathJaxConfig: 'local'};</script>\n",
              "        <script src=\"https://cdn.plot.ly/plotly-2.8.3.min.js\"></script>                <div id=\"cafa6224-d6f0-4c1e-81c7-3862c46d7f5b\" class=\"plotly-graph-div\" style=\"height:525px; width:100%;\"></div>            <script type=\"text/javascript\">                                    window.PLOTLYENV=window.PLOTLYENV || {};                                    if (document.getElementById(\"cafa6224-d6f0-4c1e-81c7-3862c46d7f5b\")) {                    Plotly.newPlot(                        \"cafa6224-d6f0-4c1e-81c7-3862c46d7f5b\",                        [{\"coloraxis\":\"coloraxis\",\"geo\":\"geo\",\"hovertemplate\":\"<b>%{hovertext}</b><br><br>Country=%{location}<br>count=%{z}<extra></extra>\",\"hovertext\":[\"ABW\",\"AGO\",\"AIA\",\"ALB\",\"AND\",\"ARE\",\"ARG\",\"ARM\",\"ASM\",\"ATA\",\"ATF\",\"AUS\",\"AUT\",\"AZE\",\"BDI\",\"BEL\",\"BFA\",\"BGD\",\"BGR\",\"BHR\",\"BHS\",\"BIH\",\"BLR\",\"BOL\",\"BRA\",\"BRB\",\"BWA\",\"CAF\",\"CHE\",\"CHL\",\"CHN\",\"CIV\",\"CMR\",\"CN\",\"COL\",\"COM\",\"CPV\",\"CRI\",\"CUB\",\"CYM\",\"CYP\",\"CZE\",\"DEU\",\"DJI\",\"DMA\",\"DNK\",\"DOM\",\"DZA\",\"ECU\",\"EGY\",\"ESP\",\"EST\",\"ETH\",\"FIN\",\"FRA\",\"FRO\",\"GAB\",\"GBR\",\"GEO\",\"GHA\",\"GIB\",\"GNB\",\"GRC\",\"GTM\",\"GUY\",\"HKG\",\"HRV\",\"HUN\",\"IDN\",\"IND\",\"IRL\",\"IRN\",\"IRQ\",\"ISL\",\"ISR\",\"ITA\",\"JAM\",\"JOR\",\"JPN\",\"KAZ\",\"KEN\",\"KIR\",\"KNA\",\"KOR\",\"KWT\",\"LAO\",\"LBN\",\"LBY\",\"LCA\",\"LIE\",\"LKA\",\"LTU\",\"LUX\",\"LVA\",\"MAC\",\"MAR\",\"MCO\",\"MDG\",\"MDV\",\"MEX\",\"MKD\",\"MLI\",\"MLT\",\"MMR\",\"MNE\",\"MOZ\",\"MRT\",\"MUS\",\"MWI\",\"MYS\",\"NAM\",\"NCL\",\"NGA\",\"NLD\",\"NOR\",\"NPL\",\"NZL\",\"OMN\",\"PAK\",\"PAN\",\"PER\",\"PHL\",\"PLW\",\"POL\",\"PRI\",\"PRT\",\"PRY\",\"PYF\",\"QAT\",\"ROU\",\"RUS\",\"RWA\",\"SAU\",\"SDN\",\"SEN\",\"SGP\",\"SLE\",\"SLV\",\"SMR\",\"SRB\",\"STP\",\"SUR\",\"SVK\",\"SVN\",\"SWE\",\"SYC\",\"SYR\",\"TGO\",\"THA\",\"TJK\",\"TMP\",\"TUN\",\"TUR\",\"TWN\",\"TZA\",\"UGA\",\"UKR\",\"URY\",\"USA\",\"UZB\",\"VEN\",\"VNM\",\"ZAF\",\"ZMB\",\"ZWE\"],\"locations\":[\"ABW\",\"AGO\",\"AIA\",\"ALB\",\"AND\",\"ARE\",\"ARG\",\"ARM\",\"ASM\",\"ATA\",\"ATF\",\"AUS\",\"AUT\",\"AZE\",\"BDI\",\"BEL\",\"BFA\",\"BGD\",\"BGR\",\"BHR\",\"BHS\",\"BIH\",\"BLR\",\"BOL\",\"BRA\",\"BRB\",\"BWA\",\"CAF\",\"CHE\",\"CHL\",\"CHN\",\"CIV\",\"CMR\",\"CN\",\"COL\",\"COM\",\"CPV\",\"CRI\",\"CUB\",\"CYM\",\"CYP\",\"CZE\",\"DEU\",\"DJI\",\"DMA\",\"DNK\",\"DOM\",\"DZA\",\"ECU\",\"EGY\",\"ESP\",\"EST\",\"ETH\",\"FIN\",\"FRA\",\"FRO\",\"GAB\",\"GBR\",\"GEO\",\"GHA\",\"GIB\",\"GNB\",\"GRC\",\"GTM\",\"GUY\",\"HKG\",\"HRV\",\"HUN\",\"IDN\",\"IND\",\"IRL\",\"IRN\",\"IRQ\",\"ISL\",\"ISR\",\"ITA\",\"JAM\",\"JOR\",\"JPN\",\"KAZ\",\"KEN\",\"KIR\",\"KNA\",\"KOR\",\"KWT\",\"LAO\",\"LBN\",\"LBY\",\"LCA\",\"LIE\",\"LKA\",\"LTU\",\"LUX\",\"LVA\",\"MAC\",\"MAR\",\"MCO\",\"MDG\",\"MDV\",\"MEX\",\"MKD\",\"MLI\",\"MLT\",\"MMR\",\"MNE\",\"MOZ\",\"MRT\",\"MUS\",\"MWI\",\"MYS\",\"NAM\",\"NCL\",\"NGA\",\"NLD\",\"NOR\",\"NPL\",\"NZL\",\"OMN\",\"PAK\",\"PAN\",\"PER\",\"PHL\",\"PLW\",\"POL\",\"PRI\",\"PRT\",\"PRY\",\"PYF\",\"QAT\",\"ROU\",\"RUS\",\"RWA\",\"SAU\",\"SDN\",\"SEN\",\"SGP\",\"SLE\",\"SLV\",\"SMR\",\"SRB\",\"STP\",\"SUR\",\"SVK\",\"SVN\",\"SWE\",\"SYC\",\"SYR\",\"TGO\",\"THA\",\"TJK\",\"TMP\",\"TUN\",\"TUR\",\"TWN\",\"TZA\",\"UGA\",\"UKR\",\"URY\",\"USA\",\"UZB\",\"VEN\",\"VNM\",\"ZAF\",\"ZMB\",\"ZWE\"],\"name\":\"\",\"z\":[2,157,1,10,2,8,160,6,1,2,1,319,1033,8,1,1868,1,3,63,1,1,10,17,10,1393,4,1,5,1301,49,537,4,10,1025,48,2,12,18,8,1,40,134,6067,1,1,326,6,82,19,21,6384,65,2,377,8469,1,2,9671,7,2,7,8,93,4,1,3,75,153,11,116,2542,60,14,53,500,2428,6,18,169,14,4,1,2,78,10,2,22,8,1,2,7,74,178,46,1,150,3,1,3,75,8,1,13,1,3,48,1,6,2,25,1,1,13,1717,426,1,68,14,5,9,23,15,1,703,10,20990,4,1,4,366,393,2,15,1,3,23,1,2,1,98,2,5,41,41,795,1,3,2,41,1,2,20,146,37,2,2,48,23,1593,2,14,6,49,1,2],\"type\":\"choropleth\"}],                        {\"template\":{\"data\":{\"bar\":[{\"error_x\":{\"color\":\"#2a3f5f\"},\"error_y\":{\"color\":\"#2a3f5f\"},\"marker\":{\"line\":{\"color\":\"#E5ECF6\",\"width\":0.5},\"pattern\":{\"fillmode\":\"overlay\",\"size\":10,\"solidity\":0.2}},\"type\":\"bar\"}],\"barpolar\":[{\"marker\":{\"line\":{\"color\":\"#E5ECF6\",\"width\":0.5},\"pattern\":{\"fillmode\":\"overlay\",\"size\":10,\"solidity\":0.2}},\"type\":\"barpolar\"}],\"carpet\":[{\"aaxis\":{\"endlinecolor\":\"#2a3f5f\",\"gridcolor\":\"white\",\"linecolor\":\"white\",\"minorgridcolor\":\"white\",\"startlinecolor\":\"#2a3f5f\"},\"baxis\":{\"endlinecolor\":\"#2a3f5f\",\"gridcolor\":\"white\",\"linecolor\":\"white\",\"minorgridcolor\":\"white\",\"startlinecolor\":\"#2a3f5f\"},\"type\":\"carpet\"}],\"choropleth\":[{\"colorbar\":{\"outlinewidth\":0,\"ticks\":\"\"},\"type\":\"choropleth\"}],\"contour\":[{\"colorbar\":{\"outlinewidth\":0,\"ticks\":\"\"},\"colorscale\":[[0.0,\"#0d0887\"],[0.1111111111111111,\"#46039f\"],[0.2222222222222222,\"#7201a8\"],[0.3333333333333333,\"#9c179e\"],[0.4444444444444444,\"#bd3786\"],[0.5555555555555556,\"#d8576b\"],[0.6666666666666666,\"#ed7953\"],[0.7777777777777778,\"#fb9f3a\"],[0.8888888888888888,\"#fdca26\"],[1.0,\"#f0f921\"]],\"type\":\"contour\"}],\"contourcarpet\":[{\"colorbar\":{\"outlinewidth\":0,\"ticks\":\"\"},\"type\":\"contourcarpet\"}],\"heatmap\":[{\"colorbar\":{\"outlinewidth\":0,\"ticks\":\"\"},\"colorscale\":[[0.0,\"#0d0887\"],[0.1111111111111111,\"#46039f\"],[0.2222222222222222,\"#7201a8\"],[0.3333333333333333,\"#9c179e\"],[0.4444444444444444,\"#bd3786\"],[0.5555555555555556,\"#d8576b\"],[0.6666666666666666,\"#ed7953\"],[0.7777777777777778,\"#fb9f3a\"],[0.8888888888888888,\"#fdca26\"],[1.0,\"#f0f921\"]],\"type\":\"heatmap\"}],\"heatmapgl\":[{\"colorbar\":{\"outlinewidth\":0,\"ticks\":\"\"},\"colorscale\":[[0.0,\"#0d0887\"],[0.1111111111111111,\"#46039f\"],[0.2222222222222222,\"#7201a8\"],[0.3333333333333333,\"#9c179e\"],[0.4444444444444444,\"#bd3786\"],[0.5555555555555556,\"#d8576b\"],[0.6666666666666666,\"#ed7953\"],[0.7777777777777778,\"#fb9f3a\"],[0.8888888888888888,\"#fdca26\"],[1.0,\"#f0f921\"]],\"type\":\"heatmapgl\"}],\"histogram\":[{\"marker\":{\"pattern\":{\"fillmode\":\"overlay\",\"size\":10,\"solidity\":0.2}},\"type\":\"histogram\"}],\"histogram2d\":[{\"colorbar\":{\"outlinewidth\":0,\"ticks\":\"\"},\"colorscale\":[[0.0,\"#0d0887\"],[0.1111111111111111,\"#46039f\"],[0.2222222222222222,\"#7201a8\"],[0.3333333333333333,\"#9c179e\"],[0.4444444444444444,\"#bd3786\"],[0.5555555555555556,\"#d8576b\"],[0.6666666666666666,\"#ed7953\"],[0.7777777777777778,\"#fb9f3a\"],[0.8888888888888888,\"#fdca26\"],[1.0,\"#f0f921\"]],\"type\":\"histogram2d\"}],\"histogram2dcontour\":[{\"colorbar\":{\"outlinewidth\":0,\"ticks\":\"\"},\"colorscale\":[[0.0,\"#0d0887\"],[0.1111111111111111,\"#46039f\"],[0.2222222222222222,\"#7201a8\"],[0.3333333333333333,\"#9c179e\"],[0.4444444444444444,\"#bd3786\"],[0.5555555555555556,\"#d8576b\"],[0.6666666666666666,\"#ed7953\"],[0.7777777777777778,\"#fb9f3a\"],[0.8888888888888888,\"#fdca26\"],[1.0,\"#f0f921\"]],\"type\":\"histogram2dcontour\"}],\"mesh3d\":[{\"colorbar\":{\"outlinewidth\":0,\"ticks\":\"\"},\"type\":\"mesh3d\"}],\"parcoords\":[{\"line\":{\"colorbar\":{\"outlinewidth\":0,\"ticks\":\"\"}},\"type\":\"parcoords\"}],\"pie\":[{\"automargin\":true,\"type\":\"pie\"}],\"scatter\":[{\"marker\":{\"colorbar\":{\"outlinewidth\":0,\"ticks\":\"\"}},\"type\":\"scatter\"}],\"scatter3d\":[{\"line\":{\"colorbar\":{\"outlinewidth\":0,\"ticks\":\"\"}},\"marker\":{\"colorbar\":{\"outlinewidth\":0,\"ticks\":\"\"}},\"type\":\"scatter3d\"}],\"scattercarpet\":[{\"marker\":{\"colorbar\":{\"outlinewidth\":0,\"ticks\":\"\"}},\"type\":\"scattercarpet\"}],\"scattergeo\":[{\"marker\":{\"colorbar\":{\"outlinewidth\":0,\"ticks\":\"\"}},\"type\":\"scattergeo\"}],\"scattergl\":[{\"marker\":{\"colorbar\":{\"outlinewidth\":0,\"ticks\":\"\"}},\"type\":\"scattergl\"}],\"scattermapbox\":[{\"marker\":{\"colorbar\":{\"outlinewidth\":0,\"ticks\":\"\"}},\"type\":\"scattermapbox\"}],\"scatterpolar\":[{\"marker\":{\"colorbar\":{\"outlinewidth\":0,\"ticks\":\"\"}},\"type\":\"scatterpolar\"}],\"scatterpolargl\":[{\"marker\":{\"colorbar\":{\"outlinewidth\":0,\"ticks\":\"\"}},\"type\":\"scatterpolargl\"}],\"scatterternary\":[{\"marker\":{\"colorbar\":{\"outlinewidth\":0,\"ticks\":\"\"}},\"type\":\"scatterternary\"}],\"surface\":[{\"colorbar\":{\"outlinewidth\":0,\"ticks\":\"\"},\"colorscale\":[[0.0,\"#0d0887\"],[0.1111111111111111,\"#46039f\"],[0.2222222222222222,\"#7201a8\"],[0.3333333333333333,\"#9c179e\"],[0.4444444444444444,\"#bd3786\"],[0.5555555555555556,\"#d8576b\"],[0.6666666666666666,\"#ed7953\"],[0.7777777777777778,\"#fb9f3a\"],[0.8888888888888888,\"#fdca26\"],[1.0,\"#f0f921\"]],\"type\":\"surface\"}],\"table\":[{\"cells\":{\"fill\":{\"color\":\"#EBF0F8\"},\"line\":{\"color\":\"white\"}},\"header\":{\"fill\":{\"color\":\"#C8D4E3\"},\"line\":{\"color\":\"white\"}},\"type\":\"table\"}]},\"layout\":{\"annotationdefaults\":{\"arrowcolor\":\"#2a3f5f\",\"arrowhead\":0,\"arrowwidth\":1},\"autotypenumbers\":\"strict\",\"coloraxis\":{\"colorbar\":{\"outlinewidth\":0,\"ticks\":\"\"}},\"colorscale\":{\"diverging\":[[0,\"#8e0152\"],[0.1,\"#c51b7d\"],[0.2,\"#de77ae\"],[0.3,\"#f1b6da\"],[0.4,\"#fde0ef\"],[0.5,\"#f7f7f7\"],[0.6,\"#e6f5d0\"],[0.7,\"#b8e186\"],[0.8,\"#7fbc41\"],[0.9,\"#4d9221\"],[1,\"#276419\"]],\"sequential\":[[0.0,\"#0d0887\"],[0.1111111111111111,\"#46039f\"],[0.2222222222222222,\"#7201a8\"],[0.3333333333333333,\"#9c179e\"],[0.4444444444444444,\"#bd3786\"],[0.5555555555555556,\"#d8576b\"],[0.6666666666666666,\"#ed7953\"],[0.7777777777777778,\"#fb9f3a\"],[0.8888888888888888,\"#fdca26\"],[1.0,\"#f0f921\"]],\"sequentialminus\":[[0.0,\"#0d0887\"],[0.1111111111111111,\"#46039f\"],[0.2222222222222222,\"#7201a8\"],[0.3333333333333333,\"#9c179e\"],[0.4444444444444444,\"#bd3786\"],[0.5555555555555556,\"#d8576b\"],[0.6666666666666666,\"#ed7953\"],[0.7777777777777778,\"#fb9f3a\"],[0.8888888888888888,\"#fdca26\"],[1.0,\"#f0f921\"]]},\"colorway\":[\"#636efa\",\"#EF553B\",\"#00cc96\",\"#ab63fa\",\"#FFA15A\",\"#19d3f3\",\"#FF6692\",\"#B6E880\",\"#FF97FF\",\"#FECB52\"],\"font\":{\"color\":\"#2a3f5f\"},\"geo\":{\"bgcolor\":\"white\",\"lakecolor\":\"white\",\"landcolor\":\"#E5ECF6\",\"showlakes\":true,\"showland\":true,\"subunitcolor\":\"white\"},\"hoverlabel\":{\"align\":\"left\"},\"hovermode\":\"closest\",\"mapbox\":{\"style\":\"light\"},\"paper_bgcolor\":\"white\",\"plot_bgcolor\":\"#E5ECF6\",\"polar\":{\"angularaxis\":{\"gridcolor\":\"white\",\"linecolor\":\"white\",\"ticks\":\"\"},\"bgcolor\":\"#E5ECF6\",\"radialaxis\":{\"gridcolor\":\"white\",\"linecolor\":\"white\",\"ticks\":\"\"}},\"scene\":{\"xaxis\":{\"backgroundcolor\":\"#E5ECF6\",\"gridcolor\":\"white\",\"gridwidth\":2,\"linecolor\":\"white\",\"showbackground\":true,\"ticks\":\"\",\"zerolinecolor\":\"white\"},\"yaxis\":{\"backgroundcolor\":\"#E5ECF6\",\"gridcolor\":\"white\",\"gridwidth\":2,\"linecolor\":\"white\",\"showbackground\":true,\"ticks\":\"\",\"zerolinecolor\":\"white\"},\"zaxis\":{\"backgroundcolor\":\"#E5ECF6\",\"gridcolor\":\"white\",\"gridwidth\":2,\"linecolor\":\"white\",\"showbackground\":true,\"ticks\":\"\",\"zerolinecolor\":\"white\"}},\"shapedefaults\":{\"line\":{\"color\":\"#2a3f5f\"}},\"ternary\":{\"aaxis\":{\"gridcolor\":\"white\",\"linecolor\":\"white\",\"ticks\":\"\"},\"baxis\":{\"gridcolor\":\"white\",\"linecolor\":\"white\",\"ticks\":\"\"},\"bgcolor\":\"#E5ECF6\",\"caxis\":{\"gridcolor\":\"white\",\"linecolor\":\"white\",\"ticks\":\"\"}},\"title\":{\"x\":0.05},\"xaxis\":{\"automargin\":true,\"gridcolor\":\"white\",\"linecolor\":\"white\",\"ticks\":\"\",\"title\":{\"standoff\":15},\"zerolinecolor\":\"white\",\"zerolinewidth\":2},\"yaxis\":{\"automargin\":true,\"gridcolor\":\"white\",\"linecolor\":\"white\",\"ticks\":\"\",\"title\":{\"standoff\":15},\"zerolinecolor\":\"white\",\"zerolinewidth\":2}}},\"geo\":{\"domain\":{\"x\":[0.0,1.0],\"y\":[0.0,1.0]},\"center\":{}},\"coloraxis\":{\"colorbar\":{\"title\":{\"text\":\"count\"}},\"colorscale\":[[0.0,\"#440154\"],[0.1111111111111111,\"#482878\"],[0.2222222222222222,\"#3e4989\"],[0.3333333333333333,\"#31688e\"],[0.4444444444444444,\"#26828e\"],[0.5555555555555556,\"#1f9e89\"],[0.6666666666666666,\"#35b779\"],[0.7777777777777778,\"#6ece58\"],[0.8888888888888888,\"#b5de2b\"],[1.0,\"#fde725\"]]},\"legend\":{\"tracegroupgap\":0},\"title\":{\"text\":\"Home country of visitors\"}},                        {\"responsive\": true}                    ).then(function(){\n",
              "                            \n",
              "var gd = document.getElementById('cafa6224-d6f0-4c1e-81c7-3862c46d7f5b');\n",
              "var x = new MutationObserver(function (mutations, observer) {{\n",
              "        var display = window.getComputedStyle(gd).display;\n",
              "        if (!display || display === 'none') {{\n",
              "            console.log([gd, 'removed!']);\n",
              "            Plotly.purge(gd);\n",
              "            observer.disconnect();\n",
              "        }}\n",
              "}});\n",
              "\n",
              "// Listen for the removal of the full notebook cells\n",
              "var notebookContainer = gd.closest('#notebook-container');\n",
              "if (notebookContainer) {{\n",
              "    x.observe(notebookContainer, {childList: true});\n",
              "}}\n",
              "\n",
              "// Listen for the clearing of the current output cell\n",
              "var outputEl = gd.closest('.output');\n",
              "if (outputEl) {{\n",
              "    x.observe(outputEl, {childList: true});\n",
              "}}\n",
              "\n",
              "                        })                };                            </script>        </div>\n",
              "</body>\n",
              "</html>"
            ]
          },
          "metadata": {}
        }
      ]
    },
    {
      "cell_type": "markdown",
      "source": [
        "* ### <font color=green>More visitors are from western europe, namely France,UK and Portugal being the highest.\n",
        " "
      ],
      "metadata": {
        "id": "rqR7V9NvmDZL"
      }
    },
    {
      "cell_type": "markdown",
      "source": [
        "* ### <font color=blue>Market</font>"
      ],
      "metadata": {
        "id": "UZh3oHEhmFuY"
      }
    },
    {
      "cell_type": "code",
      "source": [
        "plt.figure(figsize=(15, 8))\n",
        "plt.subplot(1, 2, 1)\n",
        "sns.countplot(x='Segment', data=hotel, palette='rocket')\n",
        "plt.title('Types of market segment',fontweight=\"bold\", size=20)\n",
        "\n",
        "plt.subplot(1, 2, 2)\n",
        "sns.countplot(data = hotel, x = 'DistChannel',  palette='Set1_r')\n",
        "plt.title('Types of distribution channels',fontweight=\"bold\", size=20)\n",
        "plt.subplots_adjust(right=1.7)\n",
        "\n",
        "\n",
        "\n",
        "plt.show()"
      ],
      "metadata": {
        "colab": {
          "base_uri": "https://localhost:8080/",
          "height": 370
        },
        "id": "dEzgUuRJmHHw",
        "outputId": "12264603-d343-4e68-8422-ac0ea7b1bac4"
      },
      "execution_count": null,
      "outputs": [
        {
          "output_type": "display_data",
          "data": {
            "text/plain": [
              "<Figure size 1080x576 with 2 Axes>"
            ],
            "image/png": "[encoded data removed]"
          },
          "metadata": {
            "needs_background": "light"
          }
        }
      ]
    },
    {
      "cell_type": "markdown",
      "source": [
        "* ### <font color=green>Majority DIstribution channels and Market segment were Travel agencies wither offline/online. So better focus more on this\n",
        " "
      ],
      "metadata": {
        "id": "sIWJE8u3mJZg"
      }
    },
    {
      "cell_type": "markdown",
      "source": [
        "* ### <font color=blue>Deposit"
      ],
      "metadata": {
        "id": "_4Wdh-5emMEQ"
      }
    },
    {
      "cell_type": "code",
      "source": [
        "plt.figure(figsize=(12, 6))\n",
        "\n",
        "sns.countplot(data = hotel, x = 'DepositType',hue='Hotel', palette='cool')\n",
        "plt.title('Types of Deposit type',fontweight=\"bold\", size=20)\n",
        "\n",
        "\n",
        "plt.show()"
      ],
      "metadata": {
        "colab": {
          "base_uri": "https://localhost:8080/",
          "height": 409
        },
        "id": "wfbYwOEPmNU8",
        "outputId": "a93ea778-ef55-4b33-c52e-dc0d530bdb25"
      },
      "execution_count": null,
      "outputs": [
        {
          "output_type": "display_data",
          "data": {
            "text/plain": [
              "<Figure size 864x432 with 1 Axes>"
            ],
            "image/png": "[encoded data removed]"
          },
          "metadata": {
            "needs_background": "light"
          }
        }
      ]
    },
    {
      "cell_type": "markdown",
      "source": [
        "* ### <font color=green>There was no deposit for City hotel where as Resorts had some deposits. No deposit may lead to cancel the bookings"
      ],
      "metadata": {
        "id": "1Y7AVruamPQY"
      }
    },
    {
      "cell_type": "markdown",
      "source": [
        "* ### <font color=blue>Repeat guest"
      ],
      "metadata": {
        "id": "P2aT9eyCmRdi"
      }
    },
    {
      "cell_type": "code",
      "source": [
        "plt.figure(figsize=(8,6))\n",
        "sns.countplot(data = hotel, x = 'RepeatGuest').set_title('Graph showing whether guest is repeated guest', fontsize = 20)\n",
        "plt.show()"
      ],
      "metadata": {
        "colab": {
          "base_uri": "https://localhost:8080/",
          "height": 409
        },
        "id": "Y1LBRkUPmS7N",
        "outputId": "428ebace-4165-41c4-eec7-f4cd53c2bd25"
      },
      "execution_count": null,
      "outputs": [
        {
          "output_type": "display_data",
          "data": {
            "text/plain": [
              "<Figure size 576x432 with 1 Axes>"
            ],
            "image/png": "[encoded data removed]"
          },
          "metadata": {
            "needs_background": "light"
          }
        }
      ]
    },
    {
      "cell_type": "markdown",
      "source": [
        "* ### <font color=green>Low number of repeated guests.\n",
        "* ### <font color=green> A need to target repeated guests since they have booked before. **"
      ],
      "metadata": {
        "id": "STcARRwFmVCG"
      }
    },
    {
      "cell_type": "markdown",
      "source": [
        "# <font color=blue>Looking into prices per month per hotel\n",
        "- average daily rate = $ \\frac{Sum Of All Lodging Transaction}{Total Number Of Staying Night}$\n",
        "    \n",
        "- average daily rate per person =  $ \\frac{ADR}{Adults + Children}$\n",
        "    \n",
        "- We will need to find out average daily rate per person"
      ],
      "metadata": {
        "id": "YYTSeTIomXCF"
      }
    },
    {
      "cell_type": "markdown",
      "source": [
        "### <font color=purple>For all the 3 years, bookings with a lead time less than 100 days have fewer chances of getting canceled, and lead time more than 100 days have more chances of getting canceled."
      ],
      "metadata": {
        "id": "27VncuPhkx6h"
      }
    },
    {
      "cell_type": "code",
      "source": [
        "# Resizing plot \n",
        "plt.figure(figsize=(12,5))\n",
        "\n",
        "# Calculating average daily rate per person\n",
        "hotel['adr_pp'] = hotel['ADR'] / (hotel['Adults'] + hotel['Children']) \n",
        "actual_guests = hotel.loc[hotel[\"Canceled\"] == '0']\n",
        "actual_guests['price'] = actual_guests['ADR'] * (actual_guests['WeekendStay'] + actual_guests['WeekStay'])\n",
        "sns.lineplot(data = actual_guests, x = 'ArrivingMonth', y = 'price', hue = 'Hotel')\n",
        "plt.show()"
      ],
      "metadata": {
        "colab": {
          "base_uri": "https://localhost:8080/",
          "height": 334
        },
        "id": "7JnZ7JaQmeRj",
        "outputId": "f776a2ce-d009-44c8-c4d6-0f5e7bd98fa5"
      },
      "execution_count": null,
      "outputs": [
        {
          "output_type": "display_data",
          "data": {
            "text/plain": [
              "<Figure size 864x360 with 1 Axes>"
            ],
            "image/png": "[encoded data removed]"
          },
          "metadata": {
            "needs_background": "light"
          }
        }
      ]
    },
    {
      "cell_type": "markdown",
      "source": [
        "-  ### <font color=green>Prices of resort hotel are much higher. \n",
        "* ### <font color=green> Prices of city hotel do not fluctuate that much. "
      ],
      "metadata": {
        "id": "yoA20dLWmhRf"
      }
    },
    {
      "cell_type": "markdown",
      "source": [
        "* ### <font color=blue>ADR: Average Daily Rate"
      ],
      "metadata": {
        "id": "-1MXTFRhmjNX"
      }
    },
    {
      "cell_type": "code",
      "source": [
        "plt.figure(figsize=(12,6))\n",
        "sns.lineplot(x='ArrivingMonth', y='ADR', hue='Hotel', data= hotel)\n",
        "plt.show()"
      ],
      "metadata": {
        "colab": {
          "base_uri": "https://localhost:8080/",
          "height": 388
        },
        "id": "5sas2C2lmkzY",
        "outputId": "b4321c0d-7192-4290-b3f1-e73b6bff3219"
      },
      "execution_count": null,
      "outputs": [
        {
          "output_type": "display_data",
          "data": {
            "text/plain": [
              "<Figure size 864x432 with 1 Axes>"
            ],
            "image/png": "[encoded data removed]"
          },
          "metadata": {
            "needs_background": "light"
          }
        }
      ]
    },
    {
      "cell_type": "markdown",
      "source": [
        "# <font color=purple>Summary"
      ],
      "metadata": {
        "id": "L6yHNsLlmpVf"
      }
    },
    {
      "cell_type": "markdown",
      "source": [
        "-   ### <font color=green>Majority of the hotels booked are city hotel. Definitely need to spend the most targeting fund on those hotel.\n",
        "-   ### <font color=green>We also realise that the high rate of cancellations can be due high no deposit policies. \n",
        "-   ### <font color=green>We should also target months between May to Aug. Those are peak months due to the summer period.\n",
        "-   ### <font color=green>Majority of the guests are from Western Europe. We should spend a significant amount of our budget on those area.\n",
        "-   ### <font color=green>Given that we do not have repeated guests, we should target our advertisement on guests to increase returning guests.   "
      ],
      "metadata": {
        "id": "eI6AmQYDmrvf"
      }
    },
    {
      "cell_type": "markdown",
      "source": [
        "# <font color=purple> Strategies to Counter High Cancellations at the Hotel"
      ],
      "metadata": {
        "id": "aOpLy0REmupv"
      }
    },
    {
      "cell_type": "markdown",
      "source": [
        "-   ### <font color=green>Set Non-refundable Rates, Collect deposits, and implement more rigid cancellation policies.\n",
        "-   ### <font color=green>Encourage Direct bookings by offering special discounts\n",
        "-   ### <font color=green>Monitor where the cancellations are coming from such as Market Segment, distribution channels, etc."
      ],
      "metadata": {
        "id": "DstMEq8omwYR"
      }
    },
    {
      "cell_type": "markdown",
      "source": [
        "-   ### <font color=green>For Resort Hotel, ADR is more expensive during July, August & September and for City Hotel, ADR is slightly more during March, April & May."
      ],
      "metadata": {
        "id": "HBu9Z2XgmmYA"
      }
    },
    {
      "cell_type": "markdown",
      "source": [],
      "metadata": {
        "id": "G9z2d1KbE-sw"
      }
    },
    {
      "cell_type": "markdown",
      "source": [
        "## **Solution to Business Objective**\n",
        "\n",
        "1.Seasonal pricing and promotions: Based on the analysis of booking patterns, hotels may adjust their pricing and promotions to incentivize bookings during low season periods. For example, offering discounted rates or value-added packages during off-peak months can help increase bookings and revenue.\n",
        "\n",
        "2.Distribution channel optimization: Based on the analysis of booking channels, hotels can optimize their distribution strategy to increase bookings and reduce costs. For example, investing more in direct booking channels, such as their website or loyalty program, may be more effective than relying on online travel agencies or wholesalers.\n",
        "\n",
        "3.Cancellation rate reduction: Based on the analysis of cancellation rates, hotels can identify the reasons for cancellations and take steps to reduce them. This may involve improving the booking experience, providing more flexible cancellation policies, or offering incentives to encourage guests to keep their bookings.\n",
        "\n",
        "4.Guest experience optimization: Based on the analysis of guest preferences, hotels can tailor their offerings to better meet the needs of their target markets. For example, offering personalized experiences, such as local recommendations or amenities, can help improve guest satisfaction and loyalty.\n",
        "\n",
        "5.Revenue management optimization: Based on the analysis of length of stay and booking frequency, hotels can optimize their revenue management strategy to maximize revenue. This may involve adjusting room rates based on demand, offering room upgrades or add-ons to increase revenue per guest, or developing targeted marketing and promotions to encourage repeat bookings.\n",
        "\n",
        "Overall, the solutions to the business strategy for hotel booking EDA projects should be data-driven, actionable, and aligned with the hotel's business objectives. By implementing the recommended strategies and monitoring their impact, hotels can optimize their performance, increase revenue, and improve guest satisfaction."
      ],
      "metadata": {
        "id": "Q80CV3bIEz-d"
      }
    },
    {
      "cell_type": "markdown",
      "source": [
        " **Conclusion**\n",
        " \n",
        "In conclusion, hotel booking EDA projects are an essential tool for hotels and travel agencies to improve their performance and optimize their revenue. By analyzing booking patterns, identifying guest preferences, and understanding the reasons for cancellations, hotels can develop data-driven insights and recommendations that drive business outcomes.\n",
        "\n",
        "Through the application of exploratory data analysis, statistical techniques, and data visualization, hotel managers can gain a deeper understanding of their customers and tailor their offerings to better meet their needs. This can help increase revenue, improve guest satisfaction, and optimize operational efficiency.\n",
        "\n",
        "To maximize the value of hotel booking EDA projects, it is crucial to define clear research questions, understand the data sources, and ensure data quality and accuracy. The insights and recommendations derived from the analysis should be communicated effectively to stakeholders in a clear and actionable manner.\n",
        "\n",
        "Overall, hotel booking EDA projects provide valuable insights and recommendations that can help hotels and travel agencies compete in an increasingly competitive market. By leveraging the power of data and analytics, hotels can drive business outcomes, improve guest satisfaction, and optimize their revenue."
      ],
      "metadata": {
        "id": "jpvDYDgAFLsa"
      }
    }
  ]
}